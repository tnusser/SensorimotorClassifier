{
  "nbformat": 4,
  "nbformat_minor": 0,
  "metadata": {
    "colab": {
      "name": "SensorimotorClassifier.ipynb",
      "provenance": [],
      "collapsed_sections": []
    },
    "kernelspec": {
      "name": "python3",
      "display_name": "Python 3"
    }
  },
  "cells": [
    {
      "cell_type": "code",
      "metadata": {
        "id": "0rGlkkN8Dyaj",
        "colab_type": "code",
        "colab": {}
      },
      "source": [
        "import csv\n",
        "import pandas as pd\n",
        "import numpy as np\n",
        "from sklearn.metrics import f1_score\n",
        "from sklearn.metrics import accuracy_score\n",
        "from sklearn.naive_bayes import GaussianNB\n",
        "from sklearn.neighbors import KNeighborsClassifier\n",
        "from sklearn.ensemble import GradientBoostingClassifier\n",
        "from sklearn.linear_model import LogisticRegression\n",
        "from sklearn.tree import DecisionTreeClassifier"
      ],
      "execution_count": 14,
      "outputs": []
    },
    {
      "cell_type": "code",
      "metadata": {
        "id": "G_Vz2yaGDnHv",
        "colab_type": "code",
        "colab": {
          "base_uri": "https://localhost:8080/",
          "height": 289
        },
        "outputId": "6cde5576-a3f6-4a1c-e70b-93f8aa634193"
      },
      "source": [
        "!wget \"https://osf.io/48wsc/download\""
      ],
      "execution_count": 8,
      "outputs": [
        {
          "output_type": "stream",
          "text": [
            "--2020-08-07 14:27:46--  https://osf.io/48wsc/download\n",
            "Resolving osf.io (osf.io)... 35.190.84.173\n",
            "Connecting to osf.io (osf.io)|35.190.84.173|:443... connected.\n",
            "HTTP request sent, awaiting response... 302 FOUND\n",
            "Location: https://files.de-1.osf.io/v1/resources/rwhs6/providers/osfstorage/5cc2d6441906ec0017056ba8?action=download&direct&version=1 [following]\n",
            "--2020-08-07 14:27:46--  https://files.de-1.osf.io/v1/resources/rwhs6/providers/osfstorage/5cc2d6441906ec0017056ba8?action=download&direct&version=1\n",
            "Resolving files.de-1.osf.io (files.de-1.osf.io)... 35.186.249.111\n",
            "Connecting to files.de-1.osf.io (files.de-1.osf.io)|35.186.249.111|:443... connected.\n",
            "HTTP request sent, awaiting response... 200 OK\n",
            "Length: 17196336 (16M) [text/csv]\n",
            "Saving to: ‘download.2’\n",
            "\n",
            "download.2          100%[===================>]  16.40M  65.1MB/s    in 0.3s    \n",
            "\n",
            "2020-08-07 14:27:48 (65.1 MB/s) - ‘download.2’ saved [17196336/17196336]\n",
            "\n"
          ],
          "name": "stdout"
        }
      ]
    },
    {
      "cell_type": "code",
      "metadata": {
        "id": "zfnqBbAyD8-d",
        "colab_type": "code",
        "colab": {
          "base_uri": "https://localhost:8080/",
          "height": 204
        },
        "outputId": "12cfaca4-fa03-484e-816e-9dbab3701cd8"
      },
      "source": [
        "df = pd.read_csv(\"download\", usecols=[\"Word\", \"Auditory.mean\", \"Gustatory.mean\", \"Haptic.mean\", \"Interoceptive.mean\", \"Olfactory.mean\", \"Visual.mean\"])\n",
        "df.columns = [\"word\", \"auditory\", \"gustatory\", \"haptic\", \"interoceptive\", \"olfactory\", \"visual\"]\n",
        "df[\"word\"] = df[\"word\"].str.lower()\n",
        "df['word'] = df['word'].str.replace(' ','_')\n",
        "df.head()"
      ],
      "execution_count": 9,
      "outputs": [
        {
          "output_type": "execute_result",
          "data": {
            "text/html": [
              "<div>\n",
              "<style scoped>\n",
              "    .dataframe tbody tr th:only-of-type {\n",
              "        vertical-align: middle;\n",
              "    }\n",
              "\n",
              "    .dataframe tbody tr th {\n",
              "        vertical-align: top;\n",
              "    }\n",
              "\n",
              "    .dataframe thead th {\n",
              "        text-align: right;\n",
              "    }\n",
              "</style>\n",
              "<table border=\"1\" class=\"dataframe\">\n",
              "  <thead>\n",
              "    <tr style=\"text-align: right;\">\n",
              "      <th></th>\n",
              "      <th>word</th>\n",
              "      <th>auditory</th>\n",
              "      <th>gustatory</th>\n",
              "      <th>haptic</th>\n",
              "      <th>interoceptive</th>\n",
              "      <th>olfactory</th>\n",
              "      <th>visual</th>\n",
              "    </tr>\n",
              "  </thead>\n",
              "  <tbody>\n",
              "    <tr>\n",
              "      <th>0</th>\n",
              "      <td>a</td>\n",
              "      <td>2.214286</td>\n",
              "      <td>0.000000</td>\n",
              "      <td>0.428571</td>\n",
              "      <td>0.000000</td>\n",
              "      <td>0.000000</td>\n",
              "      <td>2.428571</td>\n",
              "    </tr>\n",
              "    <tr>\n",
              "      <th>1</th>\n",
              "      <td>a_cappella</td>\n",
              "      <td>4.333333</td>\n",
              "      <td>0.000000</td>\n",
              "      <td>0.222222</td>\n",
              "      <td>0.722222</td>\n",
              "      <td>0.000000</td>\n",
              "      <td>1.666667</td>\n",
              "    </tr>\n",
              "    <tr>\n",
              "      <th>2</th>\n",
              "      <td>aardvark</td>\n",
              "      <td>1.625000</td>\n",
              "      <td>0.562500</td>\n",
              "      <td>1.625000</td>\n",
              "      <td>0.062500</td>\n",
              "      <td>1.250000</td>\n",
              "      <td>4.125000</td>\n",
              "    </tr>\n",
              "    <tr>\n",
              "      <th>3</th>\n",
              "      <td>aback</td>\n",
              "      <td>1.294118</td>\n",
              "      <td>0.058824</td>\n",
              "      <td>0.294118</td>\n",
              "      <td>1.352941</td>\n",
              "      <td>0.000000</td>\n",
              "      <td>2.823529</td>\n",
              "    </tr>\n",
              "    <tr>\n",
              "      <th>4</th>\n",
              "      <td>abacus</td>\n",
              "      <td>1.555556</td>\n",
              "      <td>0.166667</td>\n",
              "      <td>3.722222</td>\n",
              "      <td>0.277778</td>\n",
              "      <td>0.111111</td>\n",
              "      <td>3.944444</td>\n",
              "    </tr>\n",
              "  </tbody>\n",
              "</table>\n",
              "</div>"
            ],
            "text/plain": [
              "         word  auditory  gustatory  ...  interoceptive  olfactory    visual\n",
              "0           a  2.214286   0.000000  ...       0.000000   0.000000  2.428571\n",
              "1  a_cappella  4.333333   0.000000  ...       0.722222   0.000000  1.666667\n",
              "2    aardvark  1.625000   0.562500  ...       0.062500   1.250000  4.125000\n",
              "3       aback  1.294118   0.058824  ...       1.352941   0.000000  2.823529\n",
              "4      abacus  1.555556   0.166667  ...       0.277778   0.111111  3.944444\n",
              "\n",
              "[5 rows x 7 columns]"
            ]
          },
          "metadata": {
            "tags": []
          },
          "execution_count": 9
        }
      ]
    },
    {
      "cell_type": "code",
      "metadata": {
        "id": "Mqvt_FxTI3M2",
        "colab_type": "code",
        "colab": {}
      },
      "source": [
        "def parse_to_dict(file_path):\n",
        "    \"\"\"\n",
        "    Creates hashmap with word as key and concept vector as value\n",
        "    :param file_path: path to the conceptnet dictionary file\n",
        "    :return: hashmap of word and vectors\n",
        "    \"\"\"\n",
        "    concept_hash = {}\n",
        "    with open(file_path, encoding=\"utf8\") as f:\n",
        "        text = f.readlines()[1:]\n",
        "        for line in text:\n",
        "            first_item = line.split(\" \").__getitem__(0)\n",
        "            concept_hash[first_item] = line\n",
        "    f.close()\n",
        "    return concept_hash\n",
        "\n",
        "def find_word(word, concept_hash):\n",
        "    \"\"\"\n",
        "    Finds conceptnet vector for a word in the conceptnet hashmap\n",
        "    :param word: input word to analyze\n",
        "    :param concept_hash: hashmap of word and conceptnet vector\n",
        "    :return: returns the appropriate vector or none if its not in the hashmap\n",
        "    \"\"\"\n",
        "    if word in concept_hash.keys():\n",
        "        vector = concept_hash[word].split(\" \")[1:]\n",
        "        vector = [float(i) for i in vector]\n",
        "    else:\n",
        "        vector = None\n",
        "    return vector"
      ],
      "execution_count": 10,
      "outputs": []
    },
    {
      "cell_type": "code",
      "metadata": {
        "id": "1NQkaCtqIqdi",
        "colab_type": "code",
        "colab": {}
      },
      "source": [
        "file = !wget https://conceptnet.s3.amazonaws.com/downloads/2019/numberbatch/numberbatch-en-19.08.txt.gz\n",
        "  \n",
        "import gzip\n",
        "import shutil\n",
        "with gzip.open(\"numberbatch-en-17.06.txt.gz\",'rb') as f_in:\n",
        "    with open('numberbatch-en.txt','wb') as f_out:\n",
        "        shutil.copyfileobj(f_in, f_out)\n",
        "concept_hash = parse_to_dict(\"numberbatch-en.txt\")"
      ],
      "execution_count": 11,
      "outputs": []
    },
    {
      "cell_type": "code",
      "metadata": {
        "id": "yey5VZaAJEAx",
        "colab_type": "code",
        "colab": {
          "base_uri": "https://localhost:8080/",
          "height": 204
        },
        "outputId": "798add4c-998d-4b3f-89db-d5c4f0ddc185"
      },
      "source": [
        "vecs = []\n",
        "df[\"max_val\"] = df.iloc[:,1:7].idxmax(axis=1)\n",
        "for index, row in df.iterrows():\n",
        "    word_vec = find_word(row['word'], concept_hash)\n",
        "    if word_vec == None:\n",
        "        df.drop(index, inplace=True)\n",
        "    else:\n",
        "        vecs.append(word_vec)\n",
        "df[\"vec\"] = vecs\n",
        "df.head()"
      ],
      "execution_count": 12,
      "outputs": [
        {
          "output_type": "execute_result",
          "data": {
            "text/html": [
              "<div>\n",
              "<style scoped>\n",
              "    .dataframe tbody tr th:only-of-type {\n",
              "        vertical-align: middle;\n",
              "    }\n",
              "\n",
              "    .dataframe tbody tr th {\n",
              "        vertical-align: top;\n",
              "    }\n",
              "\n",
              "    .dataframe thead th {\n",
              "        text-align: right;\n",
              "    }\n",
              "</style>\n",
              "<table border=\"1\" class=\"dataframe\">\n",
              "  <thead>\n",
              "    <tr style=\"text-align: right;\">\n",
              "      <th></th>\n",
              "      <th>word</th>\n",
              "      <th>auditory</th>\n",
              "      <th>gustatory</th>\n",
              "      <th>haptic</th>\n",
              "      <th>interoceptive</th>\n",
              "      <th>olfactory</th>\n",
              "      <th>visual</th>\n",
              "      <th>max_val</th>\n",
              "      <th>vec</th>\n",
              "    </tr>\n",
              "  </thead>\n",
              "  <tbody>\n",
              "    <tr>\n",
              "      <th>0</th>\n",
              "      <td>a</td>\n",
              "      <td>2.214286</td>\n",
              "      <td>0.000000</td>\n",
              "      <td>0.428571</td>\n",
              "      <td>0.000000</td>\n",
              "      <td>0.000000</td>\n",
              "      <td>2.428571</td>\n",
              "      <td>visual</td>\n",
              "      <td>[0.1649, 0.1359, 0.0912, -0.1026, -0.0617, 0.0...</td>\n",
              "    </tr>\n",
              "    <tr>\n",
              "      <th>2</th>\n",
              "      <td>aardvark</td>\n",
              "      <td>1.625000</td>\n",
              "      <td>0.562500</td>\n",
              "      <td>1.625000</td>\n",
              "      <td>0.062500</td>\n",
              "      <td>1.250000</td>\n",
              "      <td>4.125000</td>\n",
              "      <td>visual</td>\n",
              "      <td>[-0.0285, -0.0678, 0.0822, 0.0536, 0.0536, 0.1...</td>\n",
              "    </tr>\n",
              "    <tr>\n",
              "      <th>3</th>\n",
              "      <td>aback</td>\n",
              "      <td>1.294118</td>\n",
              "      <td>0.058824</td>\n",
              "      <td>0.294118</td>\n",
              "      <td>1.352941</td>\n",
              "      <td>0.000000</td>\n",
              "      <td>2.823529</td>\n",
              "      <td>visual</td>\n",
              "      <td>[0.0945, 0.0931, 0.0303, 0.0072, 0.0287, -0.00...</td>\n",
              "    </tr>\n",
              "    <tr>\n",
              "      <th>4</th>\n",
              "      <td>abacus</td>\n",
              "      <td>1.555556</td>\n",
              "      <td>0.166667</td>\n",
              "      <td>3.722222</td>\n",
              "      <td>0.277778</td>\n",
              "      <td>0.111111</td>\n",
              "      <td>3.944444</td>\n",
              "      <td>visual</td>\n",
              "      <td>[0.0149, -0.0317, 0.0713, -0.0536, -0.0918, 0....</td>\n",
              "    </tr>\n",
              "    <tr>\n",
              "      <th>5</th>\n",
              "      <td>abandon</td>\n",
              "      <td>0.941176</td>\n",
              "      <td>0.117647</td>\n",
              "      <td>0.294118</td>\n",
              "      <td>2.117647</td>\n",
              "      <td>0.058824</td>\n",
              "      <td>2.176471</td>\n",
              "      <td>visual</td>\n",
              "      <td>[0.1708, 0.1615, -0.0372, 0.0039, 0.0269, -0.1...</td>\n",
              "    </tr>\n",
              "  </tbody>\n",
              "</table>\n",
              "</div>"
            ],
            "text/plain": [
              "       word  ...                                                vec\n",
              "0         a  ...  [0.1649, 0.1359, 0.0912, -0.1026, -0.0617, 0.0...\n",
              "2  aardvark  ...  [-0.0285, -0.0678, 0.0822, 0.0536, 0.0536, 0.1...\n",
              "3     aback  ...  [0.0945, 0.0931, 0.0303, 0.0072, 0.0287, -0.00...\n",
              "4    abacus  ...  [0.0149, -0.0317, 0.0713, -0.0536, -0.0918, 0....\n",
              "5   abandon  ...  [0.1708, 0.1615, -0.0372, 0.0039, 0.0269, -0.1...\n",
              "\n",
              "[5 rows x 9 columns]"
            ]
          },
          "metadata": {
            "tags": []
          },
          "execution_count": 12
        }
      ]
    },
    {
      "cell_type": "code",
      "metadata": {
        "id": "1L2gfFWxPBtk",
        "colab_type": "code",
        "colab": {}
      },
      "source": [
        "train = df[:30000]\n",
        "test = df[30000:]\n",
        "\n",
        "X_train = np.stack(train.vec, axis=0)\n",
        "y_train = train.max_val\n",
        "X_test = np.stack(test.vec, axis=0)\n",
        "y_test = test.max_val"
      ],
      "execution_count": 15,
      "outputs": []
    },
    {
      "cell_type": "code",
      "metadata": {
        "id": "Jmc7BGYwTrG2",
        "colab_type": "code",
        "colab": {}
      },
      "source": [
        "gnb = GaussianNB()\n",
        "neigh = KNeighborsClassifier(n_neighbors=3)\n",
        "clf = GradientBoostingClassifier(random_state=0, verbose=1)\n",
        "lgr = LogisticRegression(random_state=0, verbose=1)\n",
        "dtc = DecisionTreeClassifier(random_state=1)"
      ],
      "execution_count": 38,
      "outputs": []
    },
    {
      "cell_type": "code",
      "metadata": {
        "id": "Biq_C7qFTtwj",
        "colab_type": "code",
        "colab": {}
      },
      "source": [
        "y_pred = dtc.fit(X_train, y_train).predict(X_test)"
      ],
      "execution_count": 39,
      "outputs": []
    },
    {
      "cell_type": "code",
      "metadata": {
        "id": "q38Zay8ESsJW",
        "colab_type": "code",
        "colab": {
          "base_uri": "https://localhost:8080/",
          "height": 34
        },
        "outputId": "bbee15fb-5ae8-4436-dc26-ed09a72df016"
      },
      "source": [
        "accuracy_score(y_test, y_pred)"
      ],
      "execution_count": 40,
      "outputs": [
        {
          "output_type": "execute_result",
          "data": {
            "text/plain": [
              "0.6841191066997518"
            ]
          },
          "metadata": {
            "tags": []
          },
          "execution_count": 40
        }
      ]
    },
    {
      "cell_type": "code",
      "metadata": {
        "id": "kSVfFPoYVg5V",
        "colab_type": "code",
        "colab": {
          "base_uri": "https://localhost:8080/",
          "height": 34
        },
        "outputId": "1f12c796-b8e8-4b47-c313-264d32c7e526"
      },
      "source": [
        "f1_score(y_test, y_pred, average=\"weighted\")"
      ],
      "execution_count": 47,
      "outputs": [
        {
          "output_type": "execute_result",
          "data": {
            "text/plain": [
              "0.687473361346805"
            ]
          },
          "metadata": {
            "tags": []
          },
          "execution_count": 47
        }
      ]
    }
  ]
}