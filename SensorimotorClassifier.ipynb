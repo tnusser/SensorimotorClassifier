{
  "nbformat": 4,
  "nbformat_minor": 0,
  "metadata": {
    "colab": {
      "name": "SensorimotorClassifier.ipynb",
      "provenance": [],
      "collapsed_sections": [],
      "toc_visible": true,
      "authorship_tag": "ABX9TyOwRysygndEa8MB6AdpDgY+",
      "include_colab_link": true
    },
    "kernelspec": {
      "name": "python3",
      "display_name": "Python 3"
    }
  },
  "cells": [
    {
      "cell_type": "markdown",
      "metadata": {
        "id": "view-in-github",
        "colab_type": "text"
      },
      "source": [
        "<a href=\"https://colab.research.google.com/github/tnusser/SensorimotorClassifier/blob/master/SensorimotorClassifier.ipynb\" target=\"_parent\"><img src=\"https://colab.research.google.com/assets/colab-badge.svg\" alt=\"Open In Colab\"/></a>"
      ]
    },
    {
      "cell_type": "code",
      "metadata": {
        "id": "1SqoOyU0q_hc",
        "colab_type": "code",
        "colab": {}
      },
      "source": [
        "!pip install bert-embedding"
      ],
      "execution_count": null,
      "outputs": []
    },
    {
      "cell_type": "code",
      "metadata": {
        "id": "0rGlkkN8Dyaj",
        "colab_type": "code",
        "colab": {}
      },
      "source": [
        "import csv\n",
        "import pandas as pd\n",
        "import numpy as np\n",
        "import ast\n",
        "\n",
        "import gzip\n",
        "import shutil\n",
        "\n",
        "import matplotlib.pyplot as plt\n",
        "\n",
        "from sklearn.metrics import f1_score\n",
        "from sklearn.metrics import precision_score\n",
        "from sklearn.metrics import recall_score\n",
        "from sklearn.metrics import accuracy_score\n",
        "from sklearn.metrics import classification_report\n",
        "from sklearn.naive_bayes import GaussianNB\n",
        "from sklearn.neighbors import KNeighborsClassifier\n",
        "from sklearn.ensemble import GradientBoostingClassifier\n",
        "from sklearn.linear_model import LogisticRegression\n",
        "\n",
        "from sklearn.linear_model import LinearRegression\n",
        "from sklearn.linear_model import Ridge\n",
        "from sklearn.linear_model import Lasso\n",
        "from sklearn.tree import DecisionTreeRegressor\n",
        "from sklearn.ensemble import GradientBoostingRegressor\n",
        "\n",
        "from sklearn import svm\n",
        "from sklearn.tree import DecisionTreeClassifier\n",
        "from sklearn.model_selection import train_test_split\n",
        "\n",
        "from bert_embedding import BertEmbedding"
      ],
      "execution_count": 57,
      "outputs": []
    },
    {
      "cell_type": "code",
      "metadata": {
        "id": "Mqvt_FxTI3M2",
        "colab_type": "code",
        "colab": {}
      },
      "source": [
        "def parse_to_dict(file_path):\n",
        "    \"\"\"\n",
        "    Creates hashmap with word as key and concept vector as value\n",
        "    :param file_path: path to the conceptnet dictionary file\n",
        "    :return: hashmap of word and vectors\n",
        "    \"\"\"\n",
        "    concept_hash = {}\n",
        "    with open(file_path, encoding=\"utf8\") as f:\n",
        "        text = f.readlines()[1:]\n",
        "        for line in text:\n",
        "            first_item = line.split(\" \").__getitem__(0)\n",
        "            concept_hash[first_item] = line\n",
        "    f.close()\n",
        "    return concept_hash\n",
        "\n",
        "def find_word(embedding, word, dictionary, mode=None):\n",
        "    \"\"\"\n",
        "    Finds embedding vector for a word in the conceptnet hashmap\n",
        "    :param word: input word to analyze\n",
        "    :param concept_hash: hashmap of word and conceptnet vector\n",
        "    :return: returns the appropriate vector or none if its not in the hashmap\n",
        "    \"\"\"\n",
        "    if embedding == \"conceptnet\":\n",
        "      if word in dictionary.keys():\n",
        "          vector = dictionary[word].split(\" \")[1:]\n",
        "          vector = [float(i) for i in vector]\n",
        "      else:\n",
        "          vector = []\n",
        "    if embedding == \"bert\":\n",
        "      bert_vec = bert_embedding([word])[0][1]\n",
        "      if mode == \"add\":\n",
        "        vector = np.asarray([sum(x) for x in zip(*bert_vec)])\n",
        "    return vector\n",
        "\n",
        "def from_np_array(array_string):\n",
        "    \"\"\"\n",
        "    Converts string array from imported csv to an actual\n",
        "    numpy array\n",
        "    :array_string input string which can be represented as np array\n",
        "    \"\"\"\n",
        "    array_string = ','.join(array_string.replace('[ ', '[').split())\n",
        "    return np.array(ast.literal_eval(array_string))"
      ],
      "execution_count": 2,
      "outputs": []
    },
    {
      "cell_type": "code",
      "metadata": {
        "id": "G_Vz2yaGDnHv",
        "colab_type": "code",
        "colab": {
          "base_uri": "https://localhost:8080/",
          "height": 476
        },
        "outputId": "d3d61aa7-19ce-4e1b-8946-f38234e4f337"
      },
      "source": [
        "# Sensorimotor Dataset\n",
        "!wget -O \"data.csv\" \"https://osf.io/48wsc/download\"\n",
        "\n",
        "# ConceptNet Word Embeddings\n",
        "!wget https://conceptnet.s3.amazonaws.com/downloads/2019/numberbatch/numberbatch-en-19.08.txt.gz"
      ],
      "execution_count": 3,
      "outputs": [
        {
          "output_type": "stream",
          "text": [
            "--2020-08-25 13:24:40--  https://osf.io/48wsc/download\n",
            "Resolving osf.io (osf.io)... 35.190.84.173\n",
            "Connecting to osf.io (osf.io)|35.190.84.173|:443... connected.\n",
            "HTTP request sent, awaiting response... 302 FOUND\n",
            "Location: https://files.de-1.osf.io/v1/resources/rwhs6/providers/osfstorage/5cc2d6441906ec0017056ba8?action=download&direct&version=1 [following]\n",
            "--2020-08-25 13:24:40--  https://files.de-1.osf.io/v1/resources/rwhs6/providers/osfstorage/5cc2d6441906ec0017056ba8?action=download&direct&version=1\n",
            "Resolving files.de-1.osf.io (files.de-1.osf.io)... 35.186.249.111\n",
            "Connecting to files.de-1.osf.io (files.de-1.osf.io)|35.186.249.111|:443... connected.\n",
            "HTTP request sent, awaiting response... 200 OK\n",
            "Length: 17196336 (16M) [text/csv]\n",
            "Saving to: ‘data.csv’\n",
            "\n",
            "data.csv            100%[===================>]  16.40M  14.5MB/s    in 1.1s    \n",
            "\n",
            "2020-08-25 13:24:43 (14.5 MB/s) - ‘data.csv’ saved [17196336/17196336]\n",
            "\n",
            "--2020-08-25 13:24:44--  https://conceptnet.s3.amazonaws.com/downloads/2019/numberbatch/numberbatch-en-19.08.txt.gz\n",
            "Resolving conceptnet.s3.amazonaws.com (conceptnet.s3.amazonaws.com)... 52.216.145.243\n",
            "Connecting to conceptnet.s3.amazonaws.com (conceptnet.s3.amazonaws.com)|52.216.145.243|:443... connected.\n",
            "HTTP request sent, awaiting response... 200 OK\n",
            "Length: 325403502 (310M) [application/x-gzip]\n",
            "Saving to: ‘numberbatch-en-19.08.txt.gz’\n",
            "\n",
            "numberbatch-en-19.0 100%[===================>] 310.33M  72.8MB/s    in 4.3s    \n",
            "\n",
            "2020-08-25 13:24:48 (72.2 MB/s) - ‘numberbatch-en-19.08.txt.gz’ saved [325403502/325403502]\n",
            "\n"
          ],
          "name": "stdout"
        }
      ]
    },
    {
      "cell_type": "code",
      "metadata": {
        "id": "1NQkaCtqIqdi",
        "colab_type": "code",
        "colab": {}
      },
      "source": [
        "with gzip.open(\"numberbatch-en-19.08.txt.gz\",'rb') as f_in:\n",
        "    with open('numberbatch-en.txt','wb') as f_out:\n",
        "        shutil.copyfileobj(f_in, f_out)\n",
        "concept_hash = parse_to_dict(\"numberbatch-en.txt\")"
      ],
      "execution_count": 4,
      "outputs": []
    },
    {
      "cell_type": "code",
      "metadata": {
        "id": "zfnqBbAyD8-d",
        "colab_type": "code",
        "colab": {
          "base_uri": "https://localhost:8080/",
          "height": 204
        },
        "outputId": "823b7619-f929-4340-edfb-46756c50f29f"
      },
      "source": [
        "df = pd.read_csv(\"data.csv\", usecols=[\"Word\", \"Auditory.mean\", \"Gustatory.mean\", \"Haptic.mean\", \"Interoceptive.mean\", \"Olfactory.mean\", \"Visual.mean\"])\n",
        "df.columns = [\"word\", \"auditory\", \"gustatory\", \"haptic\", \"interoceptive\", \"olfactory\", \"visual\"]\n",
        "df[\"word\"] = df[\"word\"].str.lower()\n",
        "df['word'] = df['word'].str.replace(' ','_')\n",
        "df.head()"
      ],
      "execution_count": 5,
      "outputs": [
        {
          "output_type": "execute_result",
          "data": {
            "text/html": [
              "<div>\n",
              "<style scoped>\n",
              "    .dataframe tbody tr th:only-of-type {\n",
              "        vertical-align: middle;\n",
              "    }\n",
              "\n",
              "    .dataframe tbody tr th {\n",
              "        vertical-align: top;\n",
              "    }\n",
              "\n",
              "    .dataframe thead th {\n",
              "        text-align: right;\n",
              "    }\n",
              "</style>\n",
              "<table border=\"1\" class=\"dataframe\">\n",
              "  <thead>\n",
              "    <tr style=\"text-align: right;\">\n",
              "      <th></th>\n",
              "      <th>word</th>\n",
              "      <th>auditory</th>\n",
              "      <th>gustatory</th>\n",
              "      <th>haptic</th>\n",
              "      <th>interoceptive</th>\n",
              "      <th>olfactory</th>\n",
              "      <th>visual</th>\n",
              "    </tr>\n",
              "  </thead>\n",
              "  <tbody>\n",
              "    <tr>\n",
              "      <th>0</th>\n",
              "      <td>a</td>\n",
              "      <td>2.214286</td>\n",
              "      <td>0.000000</td>\n",
              "      <td>0.428571</td>\n",
              "      <td>0.000000</td>\n",
              "      <td>0.000000</td>\n",
              "      <td>2.428571</td>\n",
              "    </tr>\n",
              "    <tr>\n",
              "      <th>1</th>\n",
              "      <td>a_cappella</td>\n",
              "      <td>4.333333</td>\n",
              "      <td>0.000000</td>\n",
              "      <td>0.222222</td>\n",
              "      <td>0.722222</td>\n",
              "      <td>0.000000</td>\n",
              "      <td>1.666667</td>\n",
              "    </tr>\n",
              "    <tr>\n",
              "      <th>2</th>\n",
              "      <td>aardvark</td>\n",
              "      <td>1.625000</td>\n",
              "      <td>0.562500</td>\n",
              "      <td>1.625000</td>\n",
              "      <td>0.062500</td>\n",
              "      <td>1.250000</td>\n",
              "      <td>4.125000</td>\n",
              "    </tr>\n",
              "    <tr>\n",
              "      <th>3</th>\n",
              "      <td>aback</td>\n",
              "      <td>1.294118</td>\n",
              "      <td>0.058824</td>\n",
              "      <td>0.294118</td>\n",
              "      <td>1.352941</td>\n",
              "      <td>0.000000</td>\n",
              "      <td>2.823529</td>\n",
              "    </tr>\n",
              "    <tr>\n",
              "      <th>4</th>\n",
              "      <td>abacus</td>\n",
              "      <td>1.555556</td>\n",
              "      <td>0.166667</td>\n",
              "      <td>3.722222</td>\n",
              "      <td>0.277778</td>\n",
              "      <td>0.111111</td>\n",
              "      <td>3.944444</td>\n",
              "    </tr>\n",
              "  </tbody>\n",
              "</table>\n",
              "</div>"
            ],
            "text/plain": [
              "         word  auditory  gustatory  ...  interoceptive  olfactory    visual\n",
              "0           a  2.214286   0.000000  ...       0.000000   0.000000  2.428571\n",
              "1  a_cappella  4.333333   0.000000  ...       0.722222   0.000000  1.666667\n",
              "2    aardvark  1.625000   0.562500  ...       0.062500   1.250000  4.125000\n",
              "3       aback  1.294118   0.058824  ...       1.352941   0.000000  2.823529\n",
              "4      abacus  1.555556   0.166667  ...       0.277778   0.111111  3.944444\n",
              "\n",
              "[5 rows x 7 columns]"
            ]
          },
          "metadata": {
            "tags": []
          },
          "execution_count": 5
        }
      ]
    },
    {
      "cell_type": "code",
      "metadata": {
        "id": "yey5VZaAJEAx",
        "colab_type": "code",
        "colab": {
          "base_uri": "https://localhost:8080/",
          "height": 204
        },
        "outputId": "e3e2d507-862b-45fd-f680-d15d8876db89"
      },
      "source": [
        "vecs = []\n",
        "df[\"max_val\"] = df.iloc[:,1:7].idxmax(axis=1)\n",
        "for index, row in df.iterrows():\n",
        "    word_vec = find_word(embedding=\"conceptnet\", word=row['word'], dictionary=concept_hash)\n",
        "    if word_vec == []:\n",
        "        df.drop(index, inplace=True)\n",
        "    else:\n",
        "        vecs.append(word_vec)\n",
        "df[\"vec\"] = vecs\n",
        "df.head()"
      ],
      "execution_count": 7,
      "outputs": [
        {
          "output_type": "execute_result",
          "data": {
            "text/html": [
              "<div>\n",
              "<style scoped>\n",
              "    .dataframe tbody tr th:only-of-type {\n",
              "        vertical-align: middle;\n",
              "    }\n",
              "\n",
              "    .dataframe tbody tr th {\n",
              "        vertical-align: top;\n",
              "    }\n",
              "\n",
              "    .dataframe thead th {\n",
              "        text-align: right;\n",
              "    }\n",
              "</style>\n",
              "<table border=\"1\" class=\"dataframe\">\n",
              "  <thead>\n",
              "    <tr style=\"text-align: right;\">\n",
              "      <th></th>\n",
              "      <th>word</th>\n",
              "      <th>auditory</th>\n",
              "      <th>gustatory</th>\n",
              "      <th>haptic</th>\n",
              "      <th>interoceptive</th>\n",
              "      <th>olfactory</th>\n",
              "      <th>visual</th>\n",
              "      <th>max_val</th>\n",
              "      <th>vec</th>\n",
              "    </tr>\n",
              "  </thead>\n",
              "  <tbody>\n",
              "    <tr>\n",
              "      <th>0</th>\n",
              "      <td>a</td>\n",
              "      <td>2.214286</td>\n",
              "      <td>0.000000</td>\n",
              "      <td>0.428571</td>\n",
              "      <td>0.000000</td>\n",
              "      <td>0.000000</td>\n",
              "      <td>2.428571</td>\n",
              "      <td>visual</td>\n",
              "      <td>[-0.1011, -0.0806, -0.0092, 0.0901, -0.0323, -...</td>\n",
              "    </tr>\n",
              "    <tr>\n",
              "      <th>2</th>\n",
              "      <td>aardvark</td>\n",
              "      <td>1.625000</td>\n",
              "      <td>0.562500</td>\n",
              "      <td>1.625000</td>\n",
              "      <td>0.062500</td>\n",
              "      <td>1.250000</td>\n",
              "      <td>4.125000</td>\n",
              "      <td>visual</td>\n",
              "      <td>[0.0341, 0.0697, 0.0826, -0.0504, -0.1586, 0.0...</td>\n",
              "    </tr>\n",
              "    <tr>\n",
              "      <th>3</th>\n",
              "      <td>aback</td>\n",
              "      <td>1.294118</td>\n",
              "      <td>0.058824</td>\n",
              "      <td>0.294118</td>\n",
              "      <td>1.352941</td>\n",
              "      <td>0.000000</td>\n",
              "      <td>2.823529</td>\n",
              "      <td>visual</td>\n",
              "      <td>[-0.0821, -0.0935, 0.0306, -0.0153, 0.0239, -0...</td>\n",
              "    </tr>\n",
              "    <tr>\n",
              "      <th>4</th>\n",
              "      <td>abacus</td>\n",
              "      <td>1.555556</td>\n",
              "      <td>0.166667</td>\n",
              "      <td>3.722222</td>\n",
              "      <td>0.277778</td>\n",
              "      <td>0.111111</td>\n",
              "      <td>3.944444</td>\n",
              "      <td>visual</td>\n",
              "      <td>[-0.0015, 0.0511, -0.0005, 0.0978, -0.1432, -0...</td>\n",
              "    </tr>\n",
              "    <tr>\n",
              "      <th>5</th>\n",
              "      <td>abandon</td>\n",
              "      <td>0.941176</td>\n",
              "      <td>0.117647</td>\n",
              "      <td>0.294118</td>\n",
              "      <td>2.117647</td>\n",
              "      <td>0.058824</td>\n",
              "      <td>2.176471</td>\n",
              "      <td>visual</td>\n",
              "      <td>[-0.1269, -0.1875, -0.0127, -0.0012, 0.1389, 0...</td>\n",
              "    </tr>\n",
              "  </tbody>\n",
              "</table>\n",
              "</div>"
            ],
            "text/plain": [
              "       word  ...                                                vec\n",
              "0         a  ...  [-0.1011, -0.0806, -0.0092, 0.0901, -0.0323, -...\n",
              "2  aardvark  ...  [0.0341, 0.0697, 0.0826, -0.0504, -0.1586, 0.0...\n",
              "3     aback  ...  [-0.0821, -0.0935, 0.0306, -0.0153, 0.0239, -0...\n",
              "4    abacus  ...  [-0.0015, 0.0511, -0.0005, 0.0978, -0.1432, -0...\n",
              "5   abandon  ...  [-0.1269, -0.1875, -0.0127, -0.0012, 0.1389, 0...\n",
              "\n",
              "[5 rows x 9 columns]"
            ]
          },
          "metadata": {
            "tags": []
          },
          "execution_count": 7
        }
      ]
    },
    {
      "cell_type": "code",
      "metadata": {
        "id": "wBRl14ZDq-ce",
        "colab_type": "code",
        "colab": {
          "base_uri": "https://localhost:8080/",
          "height": 105
        },
        "outputId": "1eb5bf47-b8dd-466d-a924-d0934d6b2359"
      },
      "source": [
        "bert_embedding = BertEmbedding()"
      ],
      "execution_count": null,
      "outputs": [
        {
          "output_type": "stream",
          "text": [
            "WARNING:root:Mismatch in the content of model file detected. Downloading again.\n"
          ],
          "name": "stderr"
        },
        {
          "output_type": "stream",
          "text": [
            "Downloading /root/.mxnet/models/bert_12_768_12_book_corpus_wiki_en_uncased-75cc780f.zip from https://apache-mxnet.s3-accelerate.dualstack.amazonaws.com/gluon/models/bert_12_768_12_book_corpus_wiki_en_uncased-75cc780f.zip...\n"
          ],
          "name": "stdout"
        },
        {
          "output_type": "stream",
          "text": [
            "/usr/local/lib/python3.6/dist-packages/mxnet/gluon/utils.py:331: UserWarning: File /root/.mxnet/models/bert_12_768_12_book_corpus_wiki_en_uncased-75cc780f.zip exists in file system so the downloaded file is deleted\n",
            "  'File {} exists in file system so the downloaded file is deleted'.format(fname))\n"
          ],
          "name": "stderr"
        }
      ]
    },
    {
      "cell_type": "code",
      "metadata": {
        "id": "7TCC6E1_vP6Q",
        "colab_type": "code",
        "colab": {}
      },
      "source": [
        "df_bert = pd.read_csv(\"data.csv\", usecols=[\"Word\", \"Auditory.mean\", \"Gustatory.mean\", \"Haptic.mean\", \"Interoceptive.mean\", \"Olfactory.mean\", \"Visual.mean\"])\n",
        "df_bert.columns = [\"word\", \"auditory\", \"gustatory\", \"haptic\", \"interoceptive\", \"olfactory\", \"visual\"]\n",
        "vecs = []\n",
        "df_bert[\"max_val\"] = df_bert.iloc[:,1:7].idxmax(axis=1)\n",
        "for index, row in df_bert.iterrows():\n",
        "    word_vec = find_word(embedding=\"bert\", word=row[\"word\"], dictionary=None, mode=\"add\")\n",
        "    if len(word_vec) < 1:\n",
        "        df_bert.drop(index, inplace=True)\n",
        "    else:\n",
        "        vecs.append(word_vec)\n",
        "    if index % 1000 == 0:\n",
        "      print(index)\n",
        "\n",
        "df_bert[\"vec\"] = vecs\n",
        "df_bert.head()\n",
        "df_bert.to_csv(\"output\")"
      ],
      "execution_count": null,
      "outputs": []
    },
    {
      "cell_type": "code",
      "metadata": {
        "id": "60JP-3X01_CJ",
        "colab_type": "code",
        "colab": {
          "base_uri": "https://localhost:8080/",
          "height": 17
        },
        "outputId": "c87e07bb-ae14-4151-9d3b-abf05fe2760d"
      },
      "source": [
        "from google.colab import files\n",
        "files.download('output') "
      ],
      "execution_count": null,
      "outputs": [
        {
          "output_type": "display_data",
          "data": {
            "application/javascript": [
              "\n",
              "    async function download(id, filename, size) {\n",
              "      if (!google.colab.kernel.accessAllowed) {\n",
              "        return;\n",
              "      }\n",
              "      const div = document.createElement('div');\n",
              "      const label = document.createElement('label');\n",
              "      label.textContent = `Downloading \"${filename}\": `;\n",
              "      div.appendChild(label);\n",
              "      const progress = document.createElement('progress');\n",
              "      progress.max = size;\n",
              "      div.appendChild(progress);\n",
              "      document.body.appendChild(div);\n",
              "\n",
              "      const buffers = [];\n",
              "      let downloaded = 0;\n",
              "\n",
              "      const channel = await google.colab.kernel.comms.open(id);\n",
              "      // Send a message to notify the kernel that we're ready.\n",
              "      channel.send({})\n",
              "\n",
              "      for await (const message of channel.messages) {\n",
              "        // Send a message to notify the kernel that we're ready.\n",
              "        channel.send({})\n",
              "        if (message.buffers) {\n",
              "          for (const buffer of message.buffers) {\n",
              "            buffers.push(buffer);\n",
              "            downloaded += buffer.byteLength;\n",
              "            progress.value = downloaded;\n",
              "          }\n",
              "        }\n",
              "      }\n",
              "      const blob = new Blob(buffers, {type: 'application/binary'});\n",
              "      const a = document.createElement('a');\n",
              "      a.href = window.URL.createObjectURL(blob);\n",
              "      a.download = filename;\n",
              "      div.appendChild(a);\n",
              "      a.click();\n",
              "      div.remove();\n",
              "    }\n",
              "  "
            ],
            "text/plain": [
              "<IPython.core.display.Javascript object>"
            ]
          },
          "metadata": {
            "tags": []
          }
        },
        {
          "output_type": "display_data",
          "data": {
            "application/javascript": [
              "download(\"download_a9f15936-c612-4b12-a038-9cc45d3fc051\", \"output\", 497429724)"
            ],
            "text/plain": [
              "<IPython.core.display.Javascript object>"
            ]
          },
          "metadata": {
            "tags": []
          }
        }
      ]
    },
    {
      "cell_type": "code",
      "metadata": {
        "id": "ksiVfZJ02923",
        "colab_type": "code",
        "colab": {
          "base_uri": "https://localhost:8080/",
          "height": 51
        },
        "outputId": "55c980be-a851-4105-d874-62935591940e"
      },
      "source": [
        "df_temp = pd.read_csv(\"output\")\n",
        "print(\"Convert . . .\")\n",
        "df_temp.vec = df_temp.vec.apply(lambda x: from_np_array(x))\n",
        "df_temp.vec[0].shape"
      ],
      "execution_count": null,
      "outputs": [
        {
          "output_type": "stream",
          "text": [
            "Convert . . .\n"
          ],
          "name": "stdout"
        },
        {
          "output_type": "execute_result",
          "data": {
            "text/plain": [
              "(768,)"
            ]
          },
          "metadata": {
            "tags": []
          },
          "execution_count": 4
        }
      ]
    },
    {
      "cell_type": "code",
      "metadata": {
        "id": "Oo_Hbicx7FXu",
        "colab_type": "code",
        "colab": {
          "base_uri": "https://localhost:8080/",
          "height": 34
        },
        "outputId": "43d5f9c5-f9e7-497f-84cd-6cad98243176"
      },
      "source": [
        "np.asarray(bert_embedding([df_bert.word[1]])[0][1]).shape"
      ],
      "execution_count": null,
      "outputs": [
        {
          "output_type": "execute_result",
          "data": {
            "text/plain": [
              "(2, 768)"
            ]
          },
          "metadata": {
            "tags": []
          },
          "execution_count": 41
        }
      ]
    },
    {
      "cell_type": "code",
      "metadata": {
        "id": "1L2gfFWxPBtk",
        "colab_type": "code",
        "colab": {
          "base_uri": "https://localhost:8080/",
          "height": 51
        },
        "outputId": "82e531b4-ff31-413b-ec05-9c437e65aa49"
      },
      "source": [
        " X_train, X_test, y_train, y_test = train_test_split(np.stack(df.vec, axis=0), df.visual, test_size=0.2, random_state=43)\n",
        " print(X_train.shape)\n",
        " print(X_test.shape)"
      ],
      "execution_count": 84,
      "outputs": [
        {
          "output_type": "stream",
          "text": [
            "(31097, 300)\n",
            "(7775, 300)\n"
          ],
          "name": "stdout"
        }
      ]
    },
    {
      "cell_type": "code",
      "metadata": {
        "id": "GTdpk7IVziap",
        "colab_type": "code",
        "colab": {
          "base_uri": "https://localhost:8080/",
          "height": 34
        },
        "outputId": "f494e79b-166f-41ed-ffc0-2df72efca642"
      },
      "source": [
        "reg = LinearRegression().fit(X_train, y_train)\n",
        "#reg = GradientBoostingRegressor(verbose=1).fit(X_train, y_train)\n",
        "#reg = Ridge(alpha=1).fit(X_train, y_train)\n",
        "#reg = Lasso(alpha=0.000001).fit(X_train, y_train)\n",
        "print(reg.score(X_test, y_test))"
      ],
      "execution_count": 89,
      "outputs": [
        {
          "output_type": "stream",
          "text": [
            "0.4979431594807702\n"
          ],
          "name": "stdout"
        }
      ]
    },
    {
      "cell_type": "code",
      "metadata": {
        "id": "FJ6Oak9A7jb3",
        "colab_type": "code",
        "colab": {
          "base_uri": "https://localhost:8080/",
          "height": 34
        },
        "outputId": "70ec2a94-60bd-4bc8-ed37-72dc704e478a"
      },
      "source": [
        "from sklearn.metrics import mean_absolute_error\n",
        "from sklearn.metrics import mean_squared_error\n",
        "mean_squared_error(reg.predict(X_test), y_test, squared=True)"
      ],
      "execution_count": 90,
      "outputs": [
        {
          "output_type": "execute_result",
          "data": {
            "text/plain": [
              "0.41603911778507763"
            ]
          },
          "metadata": {
            "tags": []
          },
          "execution_count": 90
        }
      ]
    },
    {
      "cell_type": "code",
      "metadata": {
        "id": "DDrBuZDSDUUv",
        "colab_type": "code",
        "colab": {
          "base_uri": "https://localhost:8080/",
          "height": 1000
        },
        "outputId": "5d13ab7f-d5e9-4c22-b9dc-a553d7f03c6d"
      },
      "source": [
        "from regressors import stats\n",
        "# To calculate the p-values of beta coefficients: \n",
        "print(\"coef_pval:\\n\", stats.coef_pval(reg, X_test, y_test))\n",
        "\n",
        "# to print summary table:\n",
        "print(\"\\n=========== SUMMARY ===========\")\n",
        "xlabels = df.columns[1:7]\n",
        "stats.summary(reg, X_test, y_test)"
      ],
      "execution_count": 95,
      "outputs": [
        {
          "output_type": "stream",
          "text": [
            "coef_pval:\n",
            " [0.00000000e+00 1.08096316e-01 1.38955728e-01 0.00000000e+00\n",
            " 0.00000000e+00 0.00000000e+00 1.05241438e-01 1.74781464e-01\n",
            " 6.62379980e-04 4.78714047e-01 6.20202446e-07 1.99840144e-15\n",
            " 1.59267982e-02 0.00000000e+00 4.93881802e-01 9.16822174e-13\n",
            " 6.96531721e-12 0.00000000e+00 1.10647686e-02 9.85028055e-01\n",
            " 0.00000000e+00 2.14174593e-01 0.00000000e+00 0.00000000e+00\n",
            " 7.19431683e-02 1.79993022e-03 2.07591814e-04 5.27307626e-01\n",
            " 1.90535703e-06 2.39227977e-04 1.19231069e-10 5.19235155e-08\n",
            " 3.04234649e-05 9.76381115e-06 0.00000000e+00 9.04839529e-01\n",
            " 7.79862583e-05 2.37826963e-05 1.04360964e-14 5.32792092e-03\n",
            " 7.33724276e-03 5.74545951e-08 0.00000000e+00 6.65442533e-02\n",
            " 1.34152378e-09 3.43040830e-03 5.56550934e-04 9.24589074e-01\n",
            " 0.00000000e+00 1.65346480e-02 1.45034175e-04 3.31473831e-02\n",
            " 5.02304634e-01 3.99521718e-02 2.56896467e-03 4.80497421e-01\n",
            " 3.56611099e-01 8.66228328e-01 8.62240682e-01 7.19133642e-11\n",
            " 7.03381217e-02 8.19529153e-01 3.43050996e-01 9.36493940e-01\n",
            " 7.45118349e-02 6.04040443e-02 2.18960177e-07 8.88178420e-16\n",
            " 3.28374637e-01 2.91547384e-02 3.80903735e-02 8.45535860e-01\n",
            " 1.07180730e-03 7.71850860e-01 9.93182886e-01 0.00000000e+00\n",
            " 5.40619446e-01 1.30438585e-04 2.16922702e-06 4.52141863e-01\n",
            " 9.18540319e-08 5.38506990e-01 5.00502361e-01 6.82103218e-01\n",
            " 5.44593379e-02 1.01778370e-07 3.22867340e-07 3.75324089e-02\n",
            " 5.97953427e-03 3.01634440e-01 1.64503258e-01 3.90905000e-01\n",
            " 1.94827277e-01 2.88132649e-01 3.58260058e-02 4.76206024e-01\n",
            " 4.87638998e-04 1.41276014e-01 3.31782477e-03 1.22227754e-02\n",
            " 6.54343219e-03 7.31584580e-01 8.78293832e-02 3.25813243e-01\n",
            " 4.11984196e-01 1.48501634e-01 1.26910328e-01 2.84945990e-01\n",
            " 1.90689131e-04 5.65115715e-04 1.20726384e-01 1.17636770e-01\n",
            " 9.36999852e-01 3.82343188e-01 1.24177099e-01 4.61058104e-03\n",
            " 2.38149469e-02 2.72607702e-01 8.97494177e-01 1.87598017e-01\n",
            " 3.03710820e-01 7.94483624e-01 4.19361634e-02 8.96229135e-03\n",
            " 1.83529029e-01 8.61010097e-01 1.07422521e-01 8.58430699e-01\n",
            " 4.85694713e-03 1.19894099e-04 3.83713953e-01 7.77629644e-03\n",
            " 8.83306394e-05 1.24115078e-01 3.64958255e-01 2.26467394e-01\n",
            " 2.17785722e-02 2.88948371e-01 8.65433461e-03 5.44757227e-01\n",
            " 8.01742833e-05 1.97106496e-01 2.95052996e-02 3.87873424e-01\n",
            " 4.55220546e-02 3.00343185e-01 6.03490813e-10 4.49345494e-04\n",
            " 5.96496132e-01 1.89413157e-01 2.44636206e-01 1.23113184e-02\n",
            " 6.13075094e-01 2.50852771e-01 2.64537571e-01 3.41124722e-01\n",
            " 1.28637043e-01 7.10022606e-01 1.05636354e-04 2.21773263e-01\n",
            " 7.87941242e-01 9.11822059e-01 2.36480301e-01 8.51497467e-04\n",
            " 1.72515592e-02 8.70325509e-01 1.05975346e-01 5.45879838e-01\n",
            " 4.48729802e-02 2.61374140e-02 3.98254683e-01 7.64641635e-03\n",
            " 4.12770524e-01 8.57593040e-02 3.88983010e-04 3.27739439e-02\n",
            " 3.39645792e-03 5.95740763e-01 5.16769425e-01 1.20848702e-02\n",
            " 1.20018078e-01 2.33309052e-01 7.65377912e-03 5.00531497e-01\n",
            " 8.29701236e-01 7.92960054e-02 8.89104279e-02 7.07907473e-01\n",
            " 5.83435119e-02 6.25442972e-02 6.70246832e-01 5.99382162e-01\n",
            " 4.23614695e-01 2.56504327e-02 2.47536699e-01 2.53895743e-03\n",
            " 4.20997869e-04 9.59246426e-01 6.96030576e-01 5.69803134e-02\n",
            " 2.40301462e-01 3.27548666e-01 1.84509132e-01 4.24907517e-03\n",
            " 2.15635602e-01 4.01086181e-06 1.12600166e-01 3.72569958e-02\n",
            " 1.05345782e-01 2.13013075e-01 4.95538742e-01 4.27246581e-04\n",
            " 8.38327116e-01 2.97379289e-01 1.72585325e-04 3.61571496e-01\n",
            " 8.07322202e-02 9.85928879e-01 1.39404801e-02 2.37866326e-02\n",
            " 4.64535943e-02 6.83044773e-01 7.91349907e-01 1.61552064e-01\n",
            " 1.05512943e-01 1.99746852e-01 4.83566502e-02 8.18431755e-01\n",
            " 2.89636412e-01 2.22936686e-02 7.49188673e-03 1.81528831e-02\n",
            " 3.42951818e-01 4.53419650e-01 7.50545559e-01 2.22606385e-01\n",
            " 4.02846011e-01 6.37375720e-01 4.66324684e-02 2.52583473e-01\n",
            " 3.53508282e-01 2.75469133e-01 5.33546190e-02 4.69809264e-01\n",
            " 2.11819529e-02 1.08414252e-02 8.43426286e-01 9.68469102e-06\n",
            " 5.10535875e-01 5.97270878e-02 6.43894126e-02 1.16052203e-01\n",
            " 1.02035899e-01 7.64035341e-01 6.07538951e-02 9.39575259e-02\n",
            " 3.30298978e-01 8.65970491e-01 4.24716789e-01 6.82431061e-01\n",
            " 1.04671668e-01 3.96291234e-01 6.56180279e-01 5.27427331e-02\n",
            " 6.55046907e-01 5.88086108e-01 5.00856320e-01 2.85439866e-02\n",
            " 7.02868936e-02 5.74262955e-01 4.76458313e-03 2.92208717e-02\n",
            " 1.18115038e-02 1.02726197e-01 6.60708753e-01 1.01226731e-02\n",
            " 6.15156593e-01 6.42077745e-02 6.35836834e-01 3.48916679e-01\n",
            " 5.36359781e-01 2.92001695e-01 3.62943996e-01 5.12510617e-01\n",
            " 4.04853651e-04 5.40196622e-02 7.87384355e-01 4.19764043e-01\n",
            " 7.99685435e-01 6.38475652e-01 7.64627036e-01 4.17188318e-03\n",
            " 9.12847430e-01 3.85689916e-01 5.39861511e-01 9.42776260e-01\n",
            " 9.03368111e-01 3.76656188e-01 1.25465311e-02 8.65324692e-01\n",
            " 8.74987812e-01]\n",
            "\n",
            "=========== SUMMARY ===========\n",
            "Residuals:\n",
            "    Min      1Q  Median      3Q     Max\n",
            "-2.0793 -0.4381 -0.0182  0.4228  2.8314\n",
            "\n",
            "\n",
            "Coefficients:\n",
            "            Estimate  Std. Error   t value   p value\n",
            "_intercept  2.977805    0.009738  305.7907  0.000000\n",
            "x1          0.502669    0.312801    1.6070  0.108096\n",
            "x2         -0.163426    0.110435   -1.4798  0.138956\n",
            "x3          2.718737    0.089467   30.3882  0.000000\n",
            "x4          2.479764    0.083989   29.5249  0.000000\n",
            "x5         -2.337459    0.145041  -16.1159  0.000000\n",
            "x6         -0.191669    0.118304   -1.6201  0.105241\n",
            "x7         -0.131400    0.096823   -1.3571  0.174781\n",
            "x8         -0.386699    0.113532   -3.4061  0.000662\n",
            "x9         -0.082513    0.116477   -0.7084  0.478714\n",
            "x10         0.572821    0.114818    4.9890  0.000001\n",
            "x11        -0.917236    0.115244   -7.9591  0.000000\n",
            "x12         0.336949    0.139748    2.4111  0.015927\n",
            "x13         1.431311    0.167938    8.5229  0.000000\n",
            "x14         0.078797    0.115170    0.6842  0.493882\n",
            "x15        -0.757278    0.105848   -7.1544  0.000000\n",
            "x16         0.690109    0.100468    6.8690  0.000000\n",
            "x17         2.456666    0.110436   22.2452  0.000000\n",
            "x18         0.359014    0.141274    2.5413  0.011065\n",
            "x19         0.002571    0.137022    0.0188  0.985028\n",
            "x20         1.260981    0.114309   11.0313  0.000000\n",
            "x21         0.151825    0.122216    1.2423  0.214175\n",
            "x22        -1.171744    0.132507   -8.8429  0.000000\n",
            "x23        -1.394696    0.113114  -12.3300  0.000000\n",
            "x24        -0.245290    0.136293   -1.7997  0.071943\n",
            "x25        -0.382257    0.122421   -3.1225  0.001800\n",
            "x26         0.571174    0.153899    3.7114  0.000208\n",
            "x27         0.072418    0.114559    0.6321  0.527308\n",
            "x28        -0.764879    0.160458   -4.7668  0.000002\n",
            "x29        -0.431511    0.117410   -3.6752  0.000239\n",
            "x30        -0.832438    0.129078   -6.4491  0.000000\n",
            "x31         0.912669    0.167463    5.4500  0.000000\n",
            "x32        -0.531904    0.127471   -4.1727  0.000030\n",
            "x33        -1.000392    0.226064   -4.4253  0.000010\n",
            "x34         1.052638    0.120404    8.7426  0.000000\n",
            "x35        -0.014856    0.124264   -0.1196  0.904840\n",
            "x36         0.499921    0.126479    3.9526  0.000078\n",
            "x37         0.491243    0.116171    4.2286  0.000024\n",
            "x38         0.885812    0.114302    7.7497  0.000000\n",
            "x39        -0.352650    0.126520   -2.7873  0.005328\n",
            "x40         0.303420    0.113139    2.6818  0.007337\n",
            "x41         0.670119    0.123368    5.4319  0.000000\n",
            "x42         1.204514    0.127290    9.4627  0.000000\n",
            "x43         0.242404    0.132100    1.8350  0.066544\n",
            "x44        -0.766287    0.126248   -6.0697  0.000000\n",
            "x45         0.380771    0.130081    2.9272  0.003430\n",
            "x46        -0.480479    0.139133   -3.4534  0.000557\n",
            "x47         0.015637    0.165194    0.0947  0.924589\n",
            "x48         1.105711    0.118404    9.3385  0.000000\n",
            "x49         0.300374    0.125291    2.3974  0.016535\n",
            "x50        -0.492465    0.129551   -3.8013  0.000145\n",
            "x51        -0.290046    0.136129   -2.1307  0.033147\n",
            "x52         0.090572    0.135001    0.6709  0.502305\n",
            "x53        -0.254354    0.123798   -2.0546  0.039952\n",
            "x54        -0.426802    0.141509   -3.0161  0.002569\n",
            "x55         0.092898    0.131671    0.7055  0.480497\n",
            "x56        -0.113717    0.123351   -0.9219  0.356611\n",
            "x57         0.022264    0.132162    0.1685  0.866228\n",
            "x58         0.023988    0.138237    0.1735  0.862241\n",
            "x59         0.847299    0.129840    6.5257  0.000000\n",
            "x60        -0.217376    0.120099   -1.8100  0.070338\n",
            "x61        -0.028226    0.123712   -0.2282  0.819529\n",
            "x62         0.121645    0.128289    0.9482  0.343051\n",
            "x63         0.011198    0.140536    0.0797  0.936494\n",
            "x64         0.273332    0.153239    1.7837  0.074512\n",
            "x65        -0.245292    0.130606   -1.8781  0.060404\n",
            "x66         0.749940    0.144577    5.1871  0.000000\n",
            "x67        -1.121120    0.138986   -8.0664  0.000000\n",
            "x68         0.126098    0.129007    0.9775  0.328375\n",
            "x69         0.294558    0.135007    2.1818  0.029155\n",
            "x70         0.276807    0.133450    2.0742  0.038090\n",
            "x71        -0.026046    0.133689   -0.1948  0.845536\n",
            "x72        -0.419749    0.128277   -3.2722  0.001072\n",
            "x73        -0.038714    0.133514   -0.2900  0.771851\n",
            "x74         0.001082    0.126637    0.0085  0.993183\n",
            "x75         1.223124    0.129495    9.4453  0.000000\n",
            "x76        -0.089789    0.146737   -0.6119  0.540619\n",
            "x77        -0.518312    0.135416   -3.8276  0.000130\n",
            "x78         0.684749    0.144445    4.7406  0.000002\n",
            "x79        -0.102954    0.136928   -0.7519  0.452142\n",
            "x80        -0.691773    0.129371   -5.3472  0.000000\n",
            "x81        -0.084745    0.137774   -0.6151  0.538507\n",
            "x82        -0.098804    0.146651   -0.6737  0.500502\n",
            "x83        -0.058120    0.141891   -0.4096  0.682103\n",
            "x84        -0.257559    0.133904   -1.9235  0.054459\n",
            "x85         0.767555    0.144046    5.3285  0.000000\n",
            "x86         0.752938    0.147230    5.1140  0.000000\n",
            "x87        -0.311091    0.149543   -2.0803  0.037532\n",
            "x88        -0.375399    0.136526   -2.7497  0.005980\n",
            "x89         0.141169    0.136659    1.0330  0.301634\n",
            "x90         0.187910    0.135166    1.3902  0.164503\n",
            "x91        -0.125704    0.146503   -0.8580  0.390905\n",
            "x92        -0.193389    0.149158   -1.2965  0.194827\n",
            "x93        -0.142568    0.134207   -1.0623  0.288133\n",
            "x94        -0.344849    0.164271   -2.0993  0.035826\n",
            "x95        -0.103651    0.145485   -0.7125  0.476206\n",
            "x96        -0.476942    0.136701   -3.4889  0.000488\n",
            "x97         0.195387    0.132807    1.4712  0.141276\n",
            "x98        -0.378430    0.128825   -2.9376  0.003318\n",
            "x99         0.349121    0.139301    2.5062  0.012223\n",
            "x100       -0.427269    0.157086   -2.7200  0.006543\n",
            "x101       -0.047612    0.138799   -0.3430  0.731585\n",
            "x102       -0.242759    0.142199   -1.7072  0.087829\n",
            "x103        0.133716    0.136078    0.9826  0.325813\n",
            "x104       -0.114472    0.139524   -0.8205  0.411984\n",
            "x105        0.202636    0.140234    1.4450  0.148502\n",
            "x106        0.209969    0.137544    1.5266  0.126910\n",
            "x107        0.178452    0.166879    1.0693  0.284946\n",
            "x108        0.518621    0.138935    3.7328  0.000191\n",
            "x109       -0.472203    0.136900   -3.4493  0.000565\n",
            "x110       -0.217788    0.140336   -1.5519  0.120726\n",
            "x111       -0.210942    0.134792   -1.5649  0.117637\n",
            "x112        0.011158    0.141160    0.0790  0.937000\n",
            "x113       -0.128951    0.147603   -0.8736  0.382343\n",
            "x114        0.232782    0.151389    1.5376  0.124177\n",
            "x115        0.399419    0.140944    2.8339  0.004611\n",
            "x116        0.328762    0.145435    2.2605  0.023815\n",
            "x117       -0.156649    0.142777   -1.0972  0.272608\n",
            "x118       -0.018410    0.142896   -0.1288  0.897494\n",
            "x119       -0.191489    0.145306   -1.3178  0.187598\n",
            "x120        0.160706    0.156242    1.0286  0.303711\n",
            "x121        0.037880    0.145413    0.2605  0.794484\n",
            "x122       -0.292571    0.143806   -2.0345  0.041936\n",
            "x123        0.371825    0.142236    2.6141  0.008962\n",
            "x124        0.192770    0.144930    1.3301  0.183529\n",
            "x125        0.025269    0.144319    0.1751  0.861010\n",
            "x126        0.226513    0.140685    1.6101  0.107423\n",
            "x127        0.026291    0.147392    0.1784  0.858431\n",
            "x128        0.406845    0.144416    2.8172  0.004857\n",
            "x129       -0.601504    0.156304   -3.8483  0.000120\n",
            "x130        0.129886    0.149102    0.8711  0.383714\n",
            "x131        0.382022    0.143492    2.6623  0.007776\n",
            "x132        0.580067    0.147876    3.9227  0.000088\n",
            "x133       -0.234419    0.152428   -1.5379  0.124115\n",
            "x134       -0.130869    0.144445   -0.9060  0.364958\n",
            "x135       -0.179869    0.148701   -1.2096  0.226467\n",
            "x136        0.359912    0.156847    2.2947  0.021779\n",
            "x137        0.161238    0.152039    1.0605  0.288948\n",
            "x138       -0.381772    0.145377   -2.6261  0.008654\n",
            "x139        0.093168    0.153828    0.6057  0.544757\n",
            "x140        0.672191    0.170348    3.9460  0.000080\n",
            "x141       -0.195522    0.151574   -1.2899  0.197106\n",
            "x142       -0.314199    0.144322   -2.1771  0.029505\n",
            "x143       -0.133672    0.154797   -0.8635  0.387873\n",
            "x144        0.299457    0.149720    2.0001  0.045522\n",
            "x145        0.155492    0.150123    1.0358  0.300343\n",
            "x146        0.963268    0.155432    6.1973  0.000000\n",
            "x147       -0.529515    0.150826   -3.5108  0.000449\n",
            "x148        0.080733    0.152480    0.5295  0.596496\n",
            "x149       -0.198593    0.151317   -1.3124  0.189413\n",
            "x150       -0.175861    0.151140   -1.1636  0.244636\n",
            "x151        0.393957    0.157351    2.5037  0.012311\n",
            "x152        0.079123    0.156459    0.5057  0.613075\n",
            "x153        0.177607    0.154661    1.1484  0.250853\n",
            "x154        0.169944    0.152305    1.1158  0.264538\n",
            "x155        0.142983    0.150191    0.9520  0.341125\n",
            "x156       -0.239324    0.157485   -1.5197  0.128637\n",
            "x157       -0.055382    0.148941   -0.3718  0.710023\n",
            "x158       -0.638406    0.164569   -3.8793  0.000106\n",
            "x159        0.181126    0.148230    1.2219  0.221773\n",
            "x160        0.040273    0.149717    0.2690  0.787941\n",
            "x161       -0.017316    0.156356   -0.1107  0.911822\n",
            "x162        0.182282    0.153965    1.1839  0.236480\n",
            "x163       -0.515196    0.154399   -3.3368  0.000851\n",
            "x164        0.355606    0.149300    2.3818  0.017252\n",
            "x165       -0.024025    0.147167   -0.1633  0.870326\n",
            "x166        0.252371    0.156099    1.6167  0.105975\n",
            "x167        0.090767    0.150284    0.6040  0.545880\n",
            "x168        0.299738    0.149408    2.0062  0.044873\n",
            "x169       -0.330462    0.148550   -2.2246  0.026137\n",
            "x170        0.126598    0.149857    0.8448  0.398255\n",
            "x171       -0.422363    0.158307   -2.6680  0.007646\n",
            "x172        0.125143    0.152786    0.8191  0.412771\n",
            "x173       -0.268266    0.156112   -1.7184  0.085759\n",
            "x174       -0.558507    0.157370   -3.5490  0.000389\n",
            "x175        0.347394    0.162697    2.1352  0.032774\n",
            "x176       -0.452760    0.154511   -2.9303  0.003396\n",
            "x177        0.082364    0.155240    0.5306  0.595741\n",
            "x178        0.100660    0.155252    0.6484  0.516769\n",
            "x179       -0.407565    0.162360   -2.5102  0.012085\n",
            "x180        0.249108    0.160212    1.5549  0.120018\n",
            "x181        0.195255    0.163808    1.1920  0.233309\n",
            "x182       -0.422279    0.158295   -2.6677  0.007654\n",
            "x183        0.104702    0.155416    0.6737  0.500531\n",
            "x184        0.033872    0.157479    0.2151  0.829701\n",
            "x185       -0.273452    0.155812   -1.7550  0.079296\n",
            "x186       -0.262129    0.154068   -1.7014  0.088910\n",
            "x187        0.062837    0.167707    0.3747  0.707907\n",
            "x188        0.311868    0.164714    1.8934  0.058344\n",
            "x189        0.288864    0.155079    1.8627  0.062544\n",
            "x190        0.068365    0.160547    0.4258  0.670247\n",
            "x191        0.082378    0.156817    0.5253  0.599382\n",
            "x192       -0.130778    0.163430   -0.8002  0.423615\n",
            "x193        0.379349    0.169967    2.2319  0.025650\n",
            "x194       -0.185794    0.160661   -1.1564  0.247537\n",
            "x195        0.501952    0.166229    3.0196  0.002539\n",
            "x196       -0.567960    0.160983   -3.5281  0.000421\n",
            "x197        0.008353    0.163453    0.0511  0.959246\n",
            "x198        0.063183    0.161717    0.3907  0.696031\n",
            "x199        0.301147    0.158187    1.9037  0.056980\n",
            "x200       -0.183726    0.156453   -1.1743  0.240301\n",
            "x201        0.164385    0.167890    0.9791  0.327549\n",
            "x202       -0.210318    0.158478   -1.3271  0.184509\n",
            "x203        0.468184    0.163707    2.8599  0.004249\n",
            "x204       -0.201755    0.162927   -1.2383  0.215636\n",
            "x205        0.784588    0.170041    4.6141  0.000004\n",
            "x206        0.251390    0.158426    1.5868  0.112600\n",
            "x207       -0.342798    0.164546   -2.0833  0.037257\n",
            "x208       -0.265911    0.164177   -1.6197  0.105346\n",
            "x209       -0.202540    0.162627   -1.2454  0.213013\n",
            "x210       -0.109249    0.160293   -0.6816  0.495539\n",
            "x211       -0.597887    0.169653   -3.5242  0.000427\n",
            "x212        0.034791    0.170512    0.2040  0.838327\n",
            "x213       -0.171362    0.164433   -1.0421  0.297379\n",
            "x214        0.633656    0.168619    3.7579  0.000173\n",
            "x215        0.146272    0.160311    0.9124  0.361571\n",
            "x216        0.278195    0.159271    1.7467  0.080732\n",
            "x217       -0.002874    0.162978   -0.0176  0.985929\n",
            "x218       -0.418830    0.170301   -2.4594  0.013940\n",
            "x219        0.364147    0.161055    2.2610  0.023787\n",
            "x220       -0.345103    0.173282   -1.9916  0.046454\n",
            "x221       -0.074922    0.183486   -0.4083  0.683045\n",
            "x222        0.045938    0.173635    0.2646  0.791350\n",
            "x223       -0.238848    0.170605   -1.4000  0.161552\n",
            "x224       -0.282997    0.174810   -1.6189  0.105513\n",
            "x225       -0.225667    0.175975   -1.2824  0.199747\n",
            "x226        0.330554    0.167409    1.9745  0.048357\n",
            "x227       -0.038684    0.168507   -0.2296  0.818432\n",
            "x228        0.181289    0.171190    1.0590  0.289636\n",
            "x229       -0.390548    0.170860   -2.2858  0.022294\n",
            "x230       -0.444873    0.166317   -2.6749  0.007492\n",
            "x231       -0.398597    0.168684   -2.3630  0.018153\n",
            "x232        0.168807    0.177991    0.9484  0.342952\n",
            "x233       -0.131835    0.175835   -0.7498  0.453420\n",
            "x234       -0.054278    0.170721   -0.3179  0.750546\n",
            "x235        0.225343    0.184749    1.2197  0.222606\n",
            "x236       -0.151606    0.181219   -0.8366  0.402846\n",
            "x237        0.083400    0.176924    0.4714  0.637376\n",
            "x238       -0.373229    0.187558   -1.9899  0.046632\n",
            "x239        0.200285    0.175046    1.1442  0.252583\n",
            "x240       -0.158755    0.171098   -0.9279  0.353508\n",
            "x241       -0.182490    0.167325   -1.0906  0.275469\n",
            "x242       -0.349119    0.180672   -1.9323  0.053355\n",
            "x243        0.121709    0.168380    0.7228  0.469809\n",
            "x244       -0.398018    0.172661   -2.3052  0.021182\n",
            "x245        0.454525    0.178358    2.5484  0.010841\n",
            "x246       -0.034617    0.175259   -0.1975  0.843426\n",
            "x247       -0.749981    0.169410   -4.4270  0.000010\n",
            "x248       -0.112561    0.171057   -0.6580  0.510536\n",
            "x249        0.326403    0.173335    1.8831  0.059727\n",
            "x250       -0.371445    0.200810   -1.8497  0.064389\n",
            "x251       -0.274490    0.174641   -1.5717  0.116052\n",
            "x252        0.298927    0.182801    1.6353  0.102036\n",
            "x253        0.054220    0.180614    0.3002  0.764035\n",
            "x254        0.346983    0.185003    1.8756  0.060754\n",
            "x255       -0.293644    0.175301   -1.6751  0.093958\n",
            "x256        0.169173    0.173765    0.9736  0.330299\n",
            "x257       -0.031267    0.185247   -0.1688  0.865970\n",
            "x258       -0.160612    0.201190   -0.7983  0.424717\n",
            "x259       -0.070613    0.172579   -0.4092  0.682431\n",
            "x260       -0.278478    0.171603   -1.6228  0.104672\n",
            "x261        0.150567    0.177490    0.8483  0.396291\n",
            "x262        0.087621    0.196809    0.4452  0.656180\n",
            "x263        0.339703    0.175347    1.9373  0.052743\n",
            "x264       -0.080788    0.180824   -0.4468  0.655047\n",
            "x265       -0.096882    0.178871   -0.5416  0.588086\n",
            "x266       -0.123359    0.183250   -0.6732  0.500856\n",
            "x267       -0.381953    0.174397   -2.1901  0.028544\n",
            "x268        0.315297    0.174168    1.8103  0.070287\n",
            "x269        0.101777    0.181160    0.5618  0.574263\n",
            "x270       -0.494050    0.174987   -2.8233  0.004765\n",
            "x271       -0.383957    0.176055   -2.1809  0.029221\n",
            "x272       -0.442901    0.175872   -2.5183  0.011812\n",
            "x273        0.282468    0.173084    1.6320  0.102726\n",
            "x274       -0.080881    0.184259   -0.4390  0.660709\n",
            "x275       -0.451293    0.175448   -2.5722  0.010123\n",
            "x276        0.089985    0.178986    0.5027  0.615157\n",
            "x277        0.331774    0.179240    1.8510  0.064208\n",
            "x278        0.084451    0.178338    0.4735  0.635837\n",
            "x279        0.169974    0.181451    0.9367  0.348917\n",
            "x280       -0.112786    0.182396   -0.6184  0.536360\n",
            "x281       -0.193324    0.183452   -1.0538  0.292002\n",
            "x282        0.162142    0.178213    0.9098  0.362944\n",
            "x283       -0.116434    0.177772   -0.6550  0.512511\n",
            "x284        0.635539    0.179610    3.5384  0.000405\n",
            "x285       -0.353230    0.183308   -1.9270  0.054020\n",
            "x286        0.048330    0.179188    0.2697  0.787384\n",
            "x287        0.147766    0.183135    0.8069  0.419764\n",
            "x288        0.046664    0.183888    0.2538  0.799685\n",
            "x289        0.083720    0.178184    0.4698  0.638476\n",
            "x290       -0.054083    0.180626   -0.2994  0.764627\n",
            "x291        0.526963    0.183886    2.8657  0.004172\n",
            "x292       -0.019810    0.180993   -0.1095  0.912847\n",
            "x293        0.154060    0.177589    0.8675  0.385690\n",
            "x294       -0.110469    0.180196   -0.6130  0.539862\n",
            "x295       -0.013296    0.185220   -0.0718  0.942776\n",
            "x296       -0.021812    0.179652   -0.1214  0.903368\n",
            "x297       -0.170256    0.192570   -0.8841  0.376656\n",
            "x298       -0.450645    0.180477   -2.4970  0.012547\n",
            "x299        0.031392    0.185085    0.1696  0.865325\n",
            "x300       -0.028914    0.183775   -0.1573  0.874988\n",
            "---\n",
            "R-squared:  0.49794,    Adjusted R-squared:  0.47779\n",
            "F-statistic: 24.71 on 300 features\n"
          ],
          "name": "stdout"
        }
      ]
    },
    {
      "cell_type": "code",
      "metadata": {
        "id": "Jmc7BGYwTrG2",
        "colab_type": "code",
        "colab": {}
      },
      "source": [
        "gnb = GaussianNB()\n",
        "neigh = KNeighborsClassifier(n_neighbors=3)\n",
        "clf = GradientBoostingClassifier(random_state=0, verbose=1)\n",
        "lgr = LogisticRegression(random_state=0, verbose=1)\n",
        "dtc = DecisionTreeClassifier(random_state=1)\n",
        "svm_model = svm.SVC()"
      ],
      "execution_count": null,
      "outputs": []
    },
    {
      "cell_type": "code",
      "metadata": {
        "id": "CS4deew8teWJ",
        "colab_type": "code",
        "colab": {
          "base_uri": "https://localhost:8080/",
          "height": 238
        },
        "outputId": "b820cfd7-774d-4c02-b6b5-5e61feefd0fc"
      },
      "source": [
        "from sklearn.metrics import precision_recall_fscore_support as score\n",
        "print(classification_report(y_test, y_pred))"
      ],
      "execution_count": null,
      "outputs": [
        {
          "output_type": "stream",
          "text": [
            "               precision    recall  f1-score   support\n",
            "\n",
            "     auditory       0.23      0.24      0.23       949\n",
            "    gustatory       0.17      0.15      0.16       192\n",
            "       haptic       0.05      0.06      0.05       189\n",
            "interoceptive       0.21      0.21      0.21       718\n",
            "    olfactory       0.02      0.02      0.02        43\n",
            "       visual       0.77      0.75      0.76      5851\n",
            "\n",
            "     accuracy                           0.61      7942\n",
            "    macro avg       0.24      0.24      0.24      7942\n",
            " weighted avg       0.62      0.61      0.61      7942\n",
            "\n"
          ],
          "name": "stdout"
        }
      ]
    },
    {
      "cell_type": "code",
      "metadata": {
        "id": "jEnOBK54uxiW",
        "colab_type": "code",
        "colab": {}
      },
      "source": [
        ""
      ],
      "execution_count": null,
      "outputs": []
    },
    {
      "cell_type": "code",
      "metadata": {
        "id": "Biq_C7qFTtwj",
        "colab_type": "code",
        "colab": {
          "base_uri": "https://localhost:8080/",
          "height": 306
        },
        "outputId": "bd5952f2-a932-4371-d828-ca42f0bfac1b"
      },
      "source": [
        "y_pred = svm_model.fit(X_train, y_train).predict(X_test)"
      ],
      "execution_count": null,
      "outputs": [
        {
          "output_type": "error",
          "ename": "KeyboardInterrupt",
          "evalue": "ignored",
          "traceback": [
            "\u001b[0;31m---------------------------------------------------------------------------\u001b[0m",
            "\u001b[0;31mKeyboardInterrupt\u001b[0m                         Traceback (most recent call last)",
            "\u001b[0;32m<ipython-input-83-a1ab0ae95eb0>\u001b[0m in \u001b[0;36m<module>\u001b[0;34m()\u001b[0m\n\u001b[0;32m----> 1\u001b[0;31m \u001b[0my_pred\u001b[0m \u001b[0;34m=\u001b[0m \u001b[0msvm_model\u001b[0m\u001b[0;34m.\u001b[0m\u001b[0mfit\u001b[0m\u001b[0;34m(\u001b[0m\u001b[0mX_train\u001b[0m\u001b[0;34m,\u001b[0m \u001b[0my_train\u001b[0m\u001b[0;34m)\u001b[0m\u001b[0;34m.\u001b[0m\u001b[0mpredict\u001b[0m\u001b[0;34m(\u001b[0m\u001b[0mX_test\u001b[0m\u001b[0;34m)\u001b[0m\u001b[0;34m\u001b[0m\u001b[0;34m\u001b[0m\u001b[0m\n\u001b[0m",
            "\u001b[0;32m/usr/local/lib/python3.6/dist-packages/sklearn/svm/_base.py\u001b[0m in \u001b[0;36mfit\u001b[0;34m(self, X, y, sample_weight)\u001b[0m\n\u001b[1;32m    197\u001b[0m \u001b[0;34m\u001b[0m\u001b[0m\n\u001b[1;32m    198\u001b[0m         \u001b[0mseed\u001b[0m \u001b[0;34m=\u001b[0m \u001b[0mrnd\u001b[0m\u001b[0;34m.\u001b[0m\u001b[0mrandint\u001b[0m\u001b[0;34m(\u001b[0m\u001b[0mnp\u001b[0m\u001b[0;34m.\u001b[0m\u001b[0miinfo\u001b[0m\u001b[0;34m(\u001b[0m\u001b[0;34m'i'\u001b[0m\u001b[0;34m)\u001b[0m\u001b[0;34m.\u001b[0m\u001b[0mmax\u001b[0m\u001b[0;34m)\u001b[0m\u001b[0;34m\u001b[0m\u001b[0;34m\u001b[0m\u001b[0m\n\u001b[0;32m--> 199\u001b[0;31m         \u001b[0mfit\u001b[0m\u001b[0;34m(\u001b[0m\u001b[0mX\u001b[0m\u001b[0;34m,\u001b[0m \u001b[0my\u001b[0m\u001b[0;34m,\u001b[0m \u001b[0msample_weight\u001b[0m\u001b[0;34m,\u001b[0m \u001b[0msolver_type\u001b[0m\u001b[0;34m,\u001b[0m \u001b[0mkernel\u001b[0m\u001b[0;34m,\u001b[0m \u001b[0mrandom_seed\u001b[0m\u001b[0;34m=\u001b[0m\u001b[0mseed\u001b[0m\u001b[0;34m)\u001b[0m\u001b[0;34m\u001b[0m\u001b[0;34m\u001b[0m\u001b[0m\n\u001b[0m\u001b[1;32m    200\u001b[0m         \u001b[0;31m# see comment on the other call to np.iinfo in this file\u001b[0m\u001b[0;34m\u001b[0m\u001b[0;34m\u001b[0m\u001b[0;34m\u001b[0m\u001b[0m\n\u001b[1;32m    201\u001b[0m \u001b[0;34m\u001b[0m\u001b[0m\n",
            "\u001b[0;32m/usr/local/lib/python3.6/dist-packages/sklearn/svm/_base.py\u001b[0m in \u001b[0;36m_dense_fit\u001b[0;34m(self, X, y, sample_weight, solver_type, kernel, random_seed)\u001b[0m\n\u001b[1;32m    256\u001b[0m                 \u001b[0mcache_size\u001b[0m\u001b[0;34m=\u001b[0m\u001b[0mself\u001b[0m\u001b[0;34m.\u001b[0m\u001b[0mcache_size\u001b[0m\u001b[0;34m,\u001b[0m \u001b[0mcoef0\u001b[0m\u001b[0;34m=\u001b[0m\u001b[0mself\u001b[0m\u001b[0;34m.\u001b[0m\u001b[0mcoef0\u001b[0m\u001b[0;34m,\u001b[0m\u001b[0;34m\u001b[0m\u001b[0;34m\u001b[0m\u001b[0m\n\u001b[1;32m    257\u001b[0m                 \u001b[0mgamma\u001b[0m\u001b[0;34m=\u001b[0m\u001b[0mself\u001b[0m\u001b[0;34m.\u001b[0m\u001b[0m_gamma\u001b[0m\u001b[0;34m,\u001b[0m \u001b[0mepsilon\u001b[0m\u001b[0;34m=\u001b[0m\u001b[0mself\u001b[0m\u001b[0;34m.\u001b[0m\u001b[0mepsilon\u001b[0m\u001b[0;34m,\u001b[0m\u001b[0;34m\u001b[0m\u001b[0;34m\u001b[0m\u001b[0m\n\u001b[0;32m--> 258\u001b[0;31m                 max_iter=self.max_iter, random_seed=random_seed)\n\u001b[0m\u001b[1;32m    259\u001b[0m \u001b[0;34m\u001b[0m\u001b[0m\n\u001b[1;32m    260\u001b[0m         \u001b[0mself\u001b[0m\u001b[0;34m.\u001b[0m\u001b[0m_warn_from_fit_status\u001b[0m\u001b[0;34m(\u001b[0m\u001b[0;34m)\u001b[0m\u001b[0;34m\u001b[0m\u001b[0;34m\u001b[0m\u001b[0m\n",
            "\u001b[0;31mKeyboardInterrupt\u001b[0m: "
          ]
        }
      ]
    },
    {
      "cell_type": "code",
      "metadata": {
        "id": "q38Zay8ESsJW",
        "colab_type": "code",
        "colab": {}
      },
      "source": [
        "accuracy_score(y_test, y_pred)"
      ],
      "execution_count": null,
      "outputs": []
    },
    {
      "cell_type": "code",
      "metadata": {
        "id": "kSVfFPoYVg5V",
        "colab_type": "code",
        "colab": {}
      },
      "source": [
        "f1_score(y_test, y_pred, average=\"weighted\")"
      ],
      "execution_count": null,
      "outputs": []
    },
    {
      "cell_type": "code",
      "metadata": {
        "id": "Zr7CIV24z-rx",
        "colab_type": "code",
        "colab": {}
      },
      "source": [
        "from sklearn.metrics import mean_squared_error\n",
        "from sklearn.multioutput import MultiOutputRegressor\n",
        "from sklearn.linear_model import Ridge"
      ],
      "execution_count": null,
      "outputs": []
    },
    {
      "cell_type": "code",
      "metadata": {
        "id": "KLIgTDDEAvPL",
        "colab_type": "code",
        "colab": {}
      },
      "source": [
        "import tensorflow as tf\n",
        "from tensorflow import keras\n",
        "from keras import models\n",
        "from keras import layers\n",
        "from keras import optimizers\n",
        "from keras import losses\n",
        "from keras import metrics"
      ],
      "execution_count": null,
      "outputs": []
    },
    {
      "cell_type": "code",
      "metadata": {
        "id": "OQaWRZnjC4di",
        "colab_type": "code",
        "colab": {}
      },
      "source": [
        " xtrain, xval, ytrain, yval = train_test_split(X_train, y_train, test_size=0.1, random_state=43)"
      ],
      "execution_count": null,
      "outputs": []
    },
    {
      "cell_type": "code",
      "metadata": {
        "id": "xjHNa5ISEBIK",
        "colab_type": "code",
        "colab": {}
      },
      "source": [
        "ytrain_hot = pd.get_dummies(ytrain)\n",
        "yval_hot = pd.get_dummies(yval)"
      ],
      "execution_count": null,
      "outputs": []
    },
    {
      "cell_type": "code",
      "metadata": {
        "id": "qZcb50IaA_wy",
        "colab_type": "code",
        "colab": {
          "base_uri": "https://localhost:8080/",
          "height": 782
        },
        "outputId": "c7b93cc2-946c-4c30-b16c-853222dc81c0"
      },
      "source": [
        "model = models.Sequential()\n",
        "model.add(layers.Dense(768, activation='relu' ,input_shape=(768,)))\n",
        "model.add(layers.Dense(256, activation='relu'))\n",
        "model.add(layers.Dense(128, activation='relu'))\n",
        "model.add(layers.Dense(64, activation='relu'))\n",
        "model.add(layers.Dense(32, activation='relu'))\n",
        "model.add(layers.Dense(6, activation='softmax'))\n",
        "model.compile(optimizer=optimizers.RMSprop(lr=0.005),\n",
        "              loss='categorical_crossentropy',\n",
        "              metrics=['acc'])\n",
        "print(model.summary())\n",
        "filepath=\"weights.best.hdf5\"\n",
        "history = model.fit(xtrain,\n",
        "                    ytrain_hot,\n",
        "                    epochs=12,\n",
        "                    batch_size=512,\n",
        "                    validation_data=(xval, yval_hot), verbose=1)"
      ],
      "execution_count": null,
      "outputs": [
        {
          "output_type": "stream",
          "text": [
            "Model: \"sequential_13\"\n",
            "_________________________________________________________________\n",
            "Layer (type)                 Output Shape              Param #   \n",
            "=================================================================\n",
            "dense_40 (Dense)             (None, 768)               590592    \n",
            "_________________________________________________________________\n",
            "dense_41 (Dense)             (None, 256)               196864    \n",
            "_________________________________________________________________\n",
            "dense_42 (Dense)             (None, 128)               32896     \n",
            "_________________________________________________________________\n",
            "dense_43 (Dense)             (None, 64)                8256      \n",
            "_________________________________________________________________\n",
            "dense_44 (Dense)             (None, 32)                2080      \n",
            "_________________________________________________________________\n",
            "dense_45 (Dense)             (None, 6)                 198       \n",
            "=================================================================\n",
            "Total params: 830,886\n",
            "Trainable params: 830,886\n",
            "Non-trainable params: 0\n",
            "_________________________________________________________________\n",
            "None\n",
            "Epoch 1/12\n",
            "56/56 [==============================] - 3s 50ms/step - loss: 1.9285 - acc: 0.7197 - val_loss: 0.7949 - val_acc: 0.7438\n",
            "Epoch 2/12\n",
            "56/56 [==============================] - 3s 47ms/step - loss: 0.8053 - acc: 0.7339 - val_loss: 0.7914 - val_acc: 0.7652\n",
            "Epoch 3/12\n",
            "56/56 [==============================] - 3s 47ms/step - loss: 0.7279 - acc: 0.7553 - val_loss: 0.6083 - val_acc: 0.7957\n",
            "Epoch 4/12\n",
            "56/56 [==============================] - 3s 47ms/step - loss: 0.6676 - acc: 0.7738 - val_loss: 0.6202 - val_acc: 0.7879\n",
            "Epoch 5/12\n",
            "56/56 [==============================] - 3s 47ms/step - loss: 0.6227 - acc: 0.7877 - val_loss: 0.5762 - val_acc: 0.8064\n",
            "Epoch 6/12\n",
            "56/56 [==============================] - 3s 47ms/step - loss: 0.5912 - acc: 0.7925 - val_loss: 0.5991 - val_acc: 0.7967\n",
            "Epoch 7/12\n",
            "56/56 [==============================] - 3s 47ms/step - loss: 0.5590 - acc: 0.8046 - val_loss: 0.5723 - val_acc: 0.8036\n",
            "Epoch 8/12\n",
            "56/56 [==============================] - 3s 47ms/step - loss: 0.5155 - acc: 0.8160 - val_loss: 0.5877 - val_acc: 0.8039\n",
            "Epoch 9/12\n",
            "56/56 [==============================] - 3s 47ms/step - loss: 0.4852 - acc: 0.8282 - val_loss: 0.5918 - val_acc: 0.8026\n",
            "Epoch 10/12\n",
            "56/56 [==============================] - 3s 47ms/step - loss: 0.4465 - acc: 0.8401 - val_loss: 0.7565 - val_acc: 0.7825\n",
            "Epoch 11/12\n",
            "56/56 [==============================] - 3s 48ms/step - loss: 0.4214 - acc: 0.8496 - val_loss: 0.6437 - val_acc: 0.8083\n",
            "Epoch 12/12\n",
            "56/56 [==============================] - 3s 48ms/step - loss: 0.3861 - acc: 0.8584 - val_loss: 0.6544 - val_acc: 0.8086\n"
          ],
          "name": "stdout"
        }
      ]
    },
    {
      "cell_type": "code",
      "metadata": {
        "id": "sR1D8mHYFrfr",
        "colab_type": "code",
        "colab": {
          "base_uri": "https://localhost:8080/",
          "height": 573
        },
        "outputId": "f5cb7c71-4bef-4a5d-bce9-2ce7f512ec28"
      },
      "source": [
        "# Loss plot\n",
        "history_dict = history.history\n",
        "loss_values = history_dict['loss']\n",
        "val_loss_values = history_dict['val_loss']\n",
        "epochs = range(1, len(loss_values) + 1)\n",
        "plt.plot(epochs, loss_values, 'bo', label='Training loss')\n",
        "plt.plot(epochs, val_loss_values, 'b', label='Validation loss')\n",
        "plt.title('Training and validation loss')\n",
        "plt.xlabel('Epochs')\n",
        "plt.ylabel('Loss')\n",
        "plt.legend()\n",
        "plt.show()\n",
        "\n",
        "# Accuracy plot\n",
        "plt.clf()\n",
        "acc_values = history_dict['acc']\n",
        "val_acc_values = history_dict['val_acc']\n",
        "plt.plot(epochs, acc_values, 'bo', label='Training acc')\n",
        "plt.plot(epochs, val_acc_values, 'b', label='Validation acc')\n",
        "plt.title('Training and validation accuracy')\n",
        "plt.xlabel('Epochs')\n",
        "plt.ylabel('Loss')\n",
        "plt.legend()\n",
        "plt.show()"
      ],
      "execution_count": null,
      "outputs": [
        {
          "output_type": "display_data",
          "data": {
            "image/png": "[encoded data removed]",
            "text/plain": [
              "<Figure size 432x288 with 1 Axes>"
            ]
          },
          "metadata": {
            "tags": [],
            "needs_background": "light"
          }
        },
        {
          "output_type": "display_data",
          "data": {
            "image/png": "[encoded data removed]",
            "text/plain": [
              "<Figure size 432x288 with 1 Axes>"
            ]
          },
          "metadata": {
            "tags": [],
            "needs_background": "light"
          }
        }
      ]
    },
    {
      "cell_type": "code",
      "metadata": {
        "id": "m5zDcM15FwfF",
        "colab_type": "code",
        "colab": {}
      },
      "source": [
        "y_pred = model.predict(X_test)"
      ],
      "execution_count": null,
      "outputs": []
    },
    {
      "cell_type": "code",
      "metadata": {
        "id": "tHxydD_wHf_r",
        "colab_type": "code",
        "colab": {}
      },
      "source": [
        "labels = [\"auditory\", \"gustatory\", \"haptic\", \"interoceptive\", \"olfactory\", \"visual\"]"
      ],
      "execution_count": null,
      "outputs": []
    },
    {
      "cell_type": "code",
      "metadata": {
        "id": "AIyrQmBNGDVe",
        "colab_type": "code",
        "colab": {
          "base_uri": "https://localhost:8080/",
          "height": 255
        },
        "outputId": "e77705a2-684d-4e39-dd66-1dbf9d00a3f2"
      },
      "source": [
        "print(y_pred)\n",
        "y_test_hot = pd.get_dummies(y_test)\n",
        "\n",
        "tp, fp = 0,0\n",
        "for i, pred in enumerate(y_pred):\n",
        "  if labels[np.argmax(pred)] == np.asarray(y_test)[i]:\n",
        "    tp += 1\n",
        "  else:\n",
        "    fp += 1\n",
        "\n",
        "print(tp/len(y_test))\n"
      ],
      "execution_count": null,
      "outputs": [
        {
          "output_type": "stream",
          "text": [
            "[[3.88522691e-04 1.20525665e-05 1.39502706e-02 1.02894916e-03\n",
            "  2.23781808e-05 9.84597802e-01]\n",
            " [3.09664616e-03 6.60704775e-03 9.25345998e-03 7.61509780e-03\n",
            "  2.09150254e-03 9.71336186e-01]\n",
            " [1.85724813e-02 3.32355557e-06 6.27076370e-04 2.44183093e-03\n",
            "  4.45612068e-06 9.78350818e-01]\n",
            " ...\n",
            " [1.42115052e-04 8.85919784e-04 1.00160465e-02 1.15971459e-04\n",
            "  3.39853019e-02 9.54854608e-01]\n",
            " [2.11708751e-02 1.39271119e-03 2.70917229e-02 4.69053015e-02\n",
            "  9.40549071e-04 9.02498901e-01]\n",
            " [2.24405080e-01 8.11564605e-05 7.67090125e-04 1.04078092e-02\n",
            "  8.88421855e-05 7.64250040e-01]]\n",
            "0.7907328128934777\n"
          ],
          "name": "stdout"
        }
      ]
    }
  ]
}