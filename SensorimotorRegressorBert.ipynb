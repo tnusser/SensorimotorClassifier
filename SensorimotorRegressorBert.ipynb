{
  "nbformat": 4,
  "nbformat_minor": 0,
  "metadata": {
    "colab": {
      "name": "SensorimotorClassifier.ipynb",
      "provenance": [],
      "collapsed_sections": [],
      "mount_file_id": "https://github.com/tnusser/SensorimotorClassifier/blob/master/SensorimotorRegressorBert.ipynb",
      "authorship_tag": "ABX9TyNmNCXwVa2WXp270UpoOEBs",
      "include_colab_link": true
    },
    "kernelspec": {
      "name": "python3",
      "display_name": "Python 3"
    }
  },
  "cells": [
    {
      "cell_type": "markdown",
      "metadata": {
        "id": "view-in-github",
        "colab_type": "text"
      },
      "source": [
        "<a href=\"https://colab.research.google.com/github/tnusser/SensorimotorClassifier/blob/master/SensorimotorRegressorBert.ipynb\" target=\"_parent\"><img src=\"https://colab.research.google.com/assets/colab-badge.svg\" alt=\"Open In Colab\"/></a>"
      ]
    },
    {
      "cell_type": "markdown",
      "metadata": {
        "id": "-X6yJkSoUlFv",
        "colab_type": "text"
      },
      "source": [
        "## Package Installation"
      ]
    },
    {
      "cell_type": "code",
      "metadata": {
        "id": "1SqoOyU0q_hc",
        "colab_type": "code",
        "colab": {}
      },
      "source": [
        "!pip install bert-embedding"
      ],
      "execution_count": null,
      "outputs": []
    },
    {
      "cell_type": "markdown",
      "metadata": {
        "id": "bQm0LSDXUi7Q",
        "colab_type": "text"
      },
      "source": [
        "## Imports"
      ]
    },
    {
      "cell_type": "code",
      "metadata": {
        "id": "0rGlkkN8Dyaj",
        "colab_type": "code",
        "colab": {}
      },
      "source": [
        "import csv\n",
        "import pandas as pd\n",
        "import numpy as np\n",
        "import ast\n",
        "\n",
        "import gzip\n",
        "import shutil\n",
        "\n",
        "import matplotlib.pyplot as plt\n",
        "\n",
        "from sklearn.metrics import f1_score\n",
        "from sklearn.metrics import precision_score\n",
        "from sklearn.metrics import recall_score\n",
        "from sklearn.metrics import accuracy_score\n",
        "from sklearn.metrics import classification_report\n",
        "from sklearn.naive_bayes import GaussianNB\n",
        "from sklearn.neighbors import KNeighborsClassifier\n",
        "from sklearn.ensemble import GradientBoostingClassifier\n",
        "from sklearn.linear_model import LogisticRegression\n",
        "\n",
        "from sklearn.linear_model import LinearRegression\n",
        "from sklearn.linear_model import Ridge\n",
        "from sklearn.linear_model import Lasso\n",
        "from sklearn.tree import DecisionTreeRegressor\n",
        "from sklearn.ensemble import GradientBoostingRegressor\n",
        "\n",
        "from sklearn.metrics import mean_squared_error\n",
        "from sklearn.metrics import mean_absolute_error\n",
        "from sklearn.multioutput import MultiOutputRegressor\n",
        "\n",
        "import tensorflow as tf\n",
        "from tensorflow import keras\n",
        "from keras import models\n",
        "from keras import layers\n",
        "from keras import optimizers\n",
        "from keras import losses\n",
        "from keras import metrics\n",
        "\n",
        "from sklearn import svm\n",
        "from sklearn.tree import DecisionTreeClassifier\n",
        "from sklearn.model_selection import train_test_split\n",
        "\n",
        "from bert_embedding import BertEmbedding"
      ],
      "execution_count": 2,
      "outputs": []
    },
    {
      "cell_type": "markdown",
      "metadata": {
        "id": "Kp0XdQR1Urjv",
        "colab_type": "text"
      },
      "source": [
        "## Functions"
      ]
    },
    {
      "cell_type": "code",
      "metadata": {
        "id": "Mqvt_FxTI3M2",
        "colab_type": "code",
        "colab": {}
      },
      "source": [
        "def parse_to_dict(file_path):\n",
        "    \"\"\"\n",
        "    Creates hashmap with word as key and concept vector as value\n",
        "    :param file_path: path to the conceptnet dictionary file\n",
        "    :return: hashmap of word and vectors\n",
        "    \"\"\"\n",
        "    concept_hash = {}\n",
        "    with open(file_path, encoding=\"utf8\") as f:\n",
        "        text = f.readlines()[1:]\n",
        "        for line in text:\n",
        "            first_item = line.split(\" \").__getitem__(0)\n",
        "            concept_hash[first_item] = line\n",
        "    f.close()\n",
        "    return concept_hash\n",
        "\n",
        "def find_word(embedding, word, dictionary, mode=None):\n",
        "    \"\"\"\n",
        "    Finds embedding vector for a word in the conceptnet hashmap\n",
        "    :param word: input word to analyze\n",
        "    :param concept_hash: hashmap of word and conceptnet vector\n",
        "    :return: returns the appropriate vector or none if its not in the hashmap\n",
        "    \"\"\"\n",
        "    if embedding == \"conceptnet\":\n",
        "      if word in dictionary.keys():\n",
        "          vector = dictionary[word].split(\" \")[1:]\n",
        "          vector = [float(i) for i in vector]\n",
        "      else:\n",
        "          vector = []\n",
        "    if embedding == \"bert\":\n",
        "      if word.count(\" \") < 1:\n",
        "        vector = bert_embedding([word])[0][1]\n",
        "      else:\n",
        "          vector = []\n",
        "        # if mode == \"add\":\n",
        "        #   vector = np.asarray([sum(x) for x in zip(*bert_vec)])\n",
        "    return vector\n",
        "\n",
        "def from_np_array(array_string):\n",
        "    \"\"\"\n",
        "    Converts string array from imported csv to an actual\n",
        "    numpy array\n",
        "    :array_string input string which can be represented as np array\n",
        "    \"\"\"\n",
        "    array_string = array_string.replace('array([', '').replace(\"dtype=float32)]\", \"\").replace(\"\\n\", \"\").replace(\" \", \"\").replace(\"'\", \"\").replace(\"[\", \"\").replace(\"]\", \"\")\n",
        "    #print(array_string)#.replace(\",\",\" \")#.split()\n",
        "    return np.array(ast.literal_eval(array_string))"
      ],
      "execution_count": 16,
      "outputs": []
    },
    {
      "cell_type": "markdown",
      "metadata": {
        "id": "FBbflUu7U7z-",
        "colab_type": "text"
      },
      "source": [
        "## The Lancaster Sensorimotor Norms Data Set"
      ]
    },
    {
      "cell_type": "code",
      "metadata": {
        "id": "G_Vz2yaGDnHv",
        "colab_type": "code",
        "colab": {
          "base_uri": "https://localhost:8080/",
          "height": 301
        },
        "outputId": "765eb98d-6df1-42f1-bf9d-2cc967d15eb0"
      },
      "source": [
        "# Sensorimotor Dataset\n",
        "!wget -O \"data.csv\" \"https://osf.io/48wsc/download\""
      ],
      "execution_count": 4,
      "outputs": [
        {
          "output_type": "stream",
          "text": [
            "--2020-09-01 17:11:46--  https://osf.io/48wsc/download\n",
            "Resolving osf.io (osf.io)... 35.190.84.173\n",
            "Connecting to osf.io (osf.io)|35.190.84.173|:443... connected.\n",
            "HTTP request sent, awaiting response... 302 FOUND\n",
            "Location: https://files.de-1.osf.io/v1/resources/rwhs6/providers/osfstorage/5cc2d6441906ec0017056ba8?action=download&direct&version=1 [following]\n",
            "--2020-09-01 17:11:47--  https://files.de-1.osf.io/v1/resources/rwhs6/providers/osfstorage/5cc2d6441906ec0017056ba8?action=download&direct&version=1\n",
            "Resolving files.de-1.osf.io (files.de-1.osf.io)... 35.186.249.111\n",
            "Connecting to files.de-1.osf.io (files.de-1.osf.io)|35.186.249.111|:443... connected.\n",
            "HTTP request sent, awaiting response... 200 OK\n",
            "Length: 17196336 (16M) [text/csv]\n",
            "Saving to: ‘data.csv’\n",
            "\n",
            "data.csv            100%[===================>]  16.40M  8.06MB/s    in 2.0s    \n",
            "\n",
            "2020-09-01 17:11:52 (8.06 MB/s) - ‘data.csv’ saved [17196336/17196336]\n",
            "\n"
          ],
          "name": "stdout"
        }
      ]
    },
    {
      "cell_type": "code",
      "metadata": {
        "id": "wBRl14ZDq-ce",
        "colab_type": "code",
        "colab": {
          "base_uri": "https://localhost:8080/",
          "height": 70
        },
        "outputId": "248a3017-be7e-43c6-e3e7-0007e55a021f"
      },
      "source": [
        "bert_embedding = BertEmbedding()"
      ],
      "execution_count": 5,
      "outputs": [
        {
          "output_type": "stream",
          "text": [
            "Vocab file is not found. Downloading.\n",
            "Downloading /root/.mxnet/models/book_corpus_wiki_en_uncased-a6607397.zip from https://apache-mxnet.s3-accelerate.dualstack.amazonaws.com/gluon/dataset/vocab/book_corpus_wiki_en_uncased-a6607397.zip...\n",
            "Downloading /root/.mxnet/models/bert_12_768_12_book_corpus_wiki_en_uncased-75cc780f.zip from https://apache-mxnet.s3-accelerate.dualstack.amazonaws.com/gluon/models/bert_12_768_12_book_corpus_wiki_en_uncased-75cc780f.zip...\n"
          ],
          "name": "stdout"
        }
      ]
    },
    {
      "cell_type": "markdown",
      "metadata": {
        "id": "ReH-XeKxVFLx",
        "colab_type": "text"
      },
      "source": [
        "## Preprocessing"
      ]
    },
    {
      "cell_type": "code",
      "metadata": {
        "id": "7TCC6E1_vP6Q",
        "colab_type": "code",
        "colab": {
          "base_uri": "https://localhost:8080/",
          "height": 697
        },
        "outputId": "b54d1c0c-6e46-415c-b768-39a11d7eeafd"
      },
      "source": [
        "df = pd.read_csv(\"data.csv\", usecols=[\"Word\", \"Auditory.mean\", \"Gustatory.mean\", \"Haptic.mean\", \"Interoceptive.mean\", \"Olfactory.mean\", \"Visual.mean\"])\n",
        "df.columns = [\"word\", \"auditory\", \"gustatory\", \"haptic\", \"interoceptive\", \"olfactory\", \"visual\"]\n",
        "vecs = []\n",
        "for index, row in df.iterrows():\n",
        "    word_vec = find_word(embedding=\"bert\", word=row[\"word\"], dictionary=None, mode=\"add\")\n",
        "    if len(word_vec) < 1:\n",
        "        df.drop(index, inplace=True)\n",
        "    else:\n",
        "        vecs.append(word_vec)\n",
        "    if index % 1000 == 0:\n",
        "      print(index)\n",
        "df[\"vec\"] = vecs\n",
        "df.head()\n",
        "df.to_csv(\"output\")"
      ],
      "execution_count": null,
      "outputs": [
        {
          "output_type": "stream",
          "text": [
            "0\n",
            "1000\n",
            "2000\n",
            "3000\n",
            "4000\n",
            "5000\n",
            "6000\n",
            "7000\n",
            "8000\n",
            "9000\n",
            "10000\n",
            "11000\n",
            "12000\n",
            "13000\n",
            "14000\n",
            "15000\n",
            "16000\n",
            "17000\n",
            "18000\n",
            "19000\n",
            "20000\n",
            "21000\n",
            "22000\n",
            "23000\n",
            "24000\n",
            "25000\n",
            "26000\n",
            "27000\n",
            "28000\n",
            "29000\n",
            "30000\n",
            "31000\n",
            "32000\n",
            "33000\n",
            "34000\n",
            "35000\n",
            "36000\n",
            "37000\n",
            "38000\n",
            "39000\n"
          ],
          "name": "stdout"
        }
      ]
    },
    {
      "cell_type": "code",
      "metadata": {
        "id": "uOWivLzYgiXC",
        "colab_type": "code",
        "colab": {
          "base_uri": "https://localhost:8080/",
          "height": 34
        },
        "outputId": "b4bc617f-412c-488d-b205-002112724be7"
      },
      "source": [
        "from google.colab import drive\n",
        "drive.mount(\"/content/drive\")"
      ],
      "execution_count": 6,
      "outputs": [
        {
          "output_type": "stream",
          "text": [
            "Drive already mounted at /content/drive; to attempt to forcibly remount, call drive.mount(\"/content/drive\", force_remount=True).\n"
          ],
          "name": "stdout"
        }
      ]
    },
    {
      "cell_type": "code",
      "metadata": {
        "id": "ksiVfZJ02923",
        "colab_type": "code",
        "colab": {
          "base_uri": "https://localhost:8080/",
          "height": 34
        },
        "outputId": "44f89118-3abb-4b07-b3f4-c95ffb10282c"
      },
      "source": [
        "df_temp = pd.read_csv(\"/content/drive/My Drive/output\")\n",
        "print(\"Convert . . .\")"
      ],
      "execution_count": 38,
      "outputs": [
        {
          "output_type": "stream",
          "text": [
            "Convert . . .\n"
          ],
          "name": "stdout"
        }
      ]
    },
    {
      "cell_type": "code",
      "metadata": {
        "id": "__19tk27rk7e",
        "colab_type": "code",
        "colab": {}
      },
      "source": [
        "vecs = []\n",
        "for i, row in df_temp.iterrows():\n",
        "  try:\n",
        "    vecs.append(from_np_array(row.vec))\n",
        "  except Exception:\n",
        "    print(i)\n",
        "    df_temp.drop(i, inplace=True)\n",
        "df_temp.vec = vecs"
      ],
      "execution_count": 47,
      "outputs": []
    },
    {
      "cell_type": "markdown",
      "metadata": {
        "id": "i1ivo87lVIHN",
        "colab_type": "text"
      },
      "source": [
        "### Train Test split"
      ]
    },
    {
      "cell_type": "code",
      "metadata": {
        "id": "1L2gfFWxPBtk",
        "colab_type": "code",
        "colab": {
          "base_uri": "https://localhost:8080/",
          "height": 52
        },
        "outputId": "5713b771-b1c0-4c10-ad3c-cb7124ebbad6"
      },
      "source": [
        " X_train, X_test, y_train, y_test = train_test_split(np.stack(df_temp.vec, axis=0), df_temp, test_size=0.2, random_state=43)\n",
        " print(X_train.shape)\n",
        " print(X_test.shape)"
      ],
      "execution_count": 52,
      "outputs": [
        {
          "output_type": "stream",
          "text": [
            "(29445, 768)\n",
            "(7362, 768)\n"
          ],
          "name": "stdout"
        }
      ]
    },
    {
      "cell_type": "markdown",
      "metadata": {
        "id": "nvPB-gvXVJ9d",
        "colab_type": "text"
      },
      "source": [
        "## Regression models"
      ]
    },
    {
      "cell_type": "code",
      "metadata": {
        "id": "GTdpk7IVziap",
        "colab_type": "code",
        "colab": {}
      },
      "source": [
        "reg_alg = [LinearRegression(), Lasso(alpha=0.00001), GradientBoostingRegressor(verbose=1, n_estimators=350)]\n",
        "scores = []\n",
        "for reg in reg_alg:\n",
        "  mses, maes = [], []\n",
        "  for i in range(6):\n",
        "    model = reg.fit(X_train, y_train.iloc[:,i+1])\n",
        "    mse = mean_squared_error(model.predict(X_test), y_test.iloc[:,i+1], squared=False)\n",
        "    mae = mean_absolute_error(model.predict(X_test), y_test.iloc[:,i+1])\n",
        "    mses.append(mse)\n",
        "    maes.append(mae)\n",
        "  scores.append((np.mean(maes), maes, np.mean(mses), mses))\n",
        "print(scores)"
      ],
      "execution_count": null,
      "outputs": []
    },
    {
      "cell_type": "code",
      "metadata": {
        "id": "DDrBuZDSDUUv",
        "colab_type": "code",
        "colab": {}
      },
      "source": [
        "from regressors import stats\n",
        "# To calculate the p-values of beta coefficients: \n",
        "print(\"coef_pval:\\n\", stats.coef_pval(reg, X_test, y_test))\n",
        "\n",
        "# to print summary table:\n",
        "print(\"\\n=========== SUMMARY ===========\")\n",
        "xlabels = df.columns[1:7]\n",
        "stats.summary(reg, X_test, y_test)"
      ],
      "execution_count": null,
      "outputs": []
    },
    {
      "cell_type": "code",
      "metadata": {
        "id": "OQaWRZnjC4di",
        "colab_type": "code",
        "colab": {}
      },
      "source": [
        " xtrain, xval, ytrain, yval = train_test_split(X_train, y_train, test_size=0.1, random_state=43)"
      ],
      "execution_count": null,
      "outputs": []
    },
    {
      "cell_type": "markdown",
      "metadata": {
        "id": "2cDd4AqyVOIF",
        "colab_type": "text"
      },
      "source": [
        "## Neural Network"
      ]
    },
    {
      "cell_type": "code",
      "metadata": {
        "id": "qZcb50IaA_wy",
        "colab_type": "code",
        "colab": {
          "base_uri": "https://localhost:8080/",
          "height": 354
        },
        "outputId": "84c7d081-52e2-4496-c038-0bb65fb1ee71"
      },
      "source": [
        "model = models.Sequential()\n",
        "model.add(layers.Dense(300, activation='relu' ,input_shape=(768,)))\n",
        "model.add(keras.layers.Dropout(0.4))\n",
        "model.add(layers.Dense(32, activation='relu'))\n",
        "model.add(keras.layers.Dropout(0.2))\n",
        "model.add(layers.Dense(1, activation='linear'))\n",
        "model.compile(optimizer='adam',\n",
        "              loss='mse',\n",
        "              metrics=['mse', 'mae'])\n",
        "print(model.summary())\n",
        "filepath=\"weights.best.hdf5\"\n",
        "es_callback = keras.callbacks.EarlyStopping(monitor='val_loss', patience=3)"
      ],
      "execution_count": 66,
      "outputs": [
        {
          "output_type": "stream",
          "text": [
            "Model: \"sequential_1\"\n",
            "_________________________________________________________________\n",
            "Layer (type)                 Output Shape              Param #   \n",
            "=================================================================\n",
            "dense_3 (Dense)              (None, 300)               230700    \n",
            "_________________________________________________________________\n",
            "dropout_2 (Dropout)          (None, 300)               0         \n",
            "_________________________________________________________________\n",
            "dense_4 (Dense)              (None, 32)                9632      \n",
            "_________________________________________________________________\n",
            "dropout_3 (Dropout)          (None, 32)                0         \n",
            "_________________________________________________________________\n",
            "dense_5 (Dense)              (None, 1)                 33        \n",
            "=================================================================\n",
            "Total params: 240,365\n",
            "Trainable params: 240,365\n",
            "Non-trainable params: 0\n",
            "_________________________________________________________________\n",
            "None\n"
          ],
          "name": "stdout"
        }
      ]
    },
    {
      "cell_type": "code",
      "metadata": {
        "id": "60eFmayVz1fB",
        "colab_type": "code",
        "colab": {}
      },
      "source": [
        "mses, maes = [], []\n",
        "for i in range(6):\n",
        "    history = model.fit(xtrain, ytrain.iloc[:,i+2], epochs=50, batch_size=512, validation_data=(xval, yval.iloc[:,i+2]), verbose=1, callbacks=[es_callback])\n",
        "    test_predict = model.predict(X_test).flatten()\n",
        "    mae = mean_absolute_error(test_predict, y_test.iloc[:,i+2])\n",
        "    mse = mean_squared_error(test_predict, y_test.iloc[:,i+2], squared=False)\n",
        "    mses.append(mse)\n",
        "    maes.append(mae)\n",
        "scores = []\n",
        "scores.append((np.mean(maes), maes, np.mean(mses), mses))\n",
        "for s in scores:\n",
        "  print(s[0])"
      ],
      "execution_count": null,
      "outputs": []
    },
    {
      "cell_type": "markdown",
      "metadata": {
        "id": "2Iq1x0mqVklT",
        "colab_type": "text"
      },
      "source": [
        "### Performance Plot"
      ]
    },
    {
      "cell_type": "code",
      "metadata": {
        "id": "sR1D8mHYFrfr",
        "colab_type": "code",
        "colab": {
          "base_uri": "https://localhost:8080/",
          "height": 573
        },
        "outputId": "32dbab32-157b-4be2-f474-a350f88e9dc4"
      },
      "source": [
        "# Loss plot\n",
        "history_dict = history.history\n",
        "loss_values = history_dict['loss']\n",
        "val_loss_values = history_dict['val_loss']\n",
        "epochs = range(1, len(loss_values) + 1)\n",
        "plt.plot(epochs, loss_values, 'bo', label='Training loss')\n",
        "plt.plot(epochs, val_loss_values, 'b', label='Validation loss')\n",
        "plt.title('Training and validation loss')\n",
        "plt.xlabel('Epochs')\n",
        "plt.ylabel('Loss')\n",
        "plt.legend()\n",
        "plt.show()\n",
        "\n",
        "# Accuracy plot\n",
        "plt.clf()\n",
        "acc_values = history_dict['mse']\n",
        "val_acc_values = history_dict['val_mse']\n",
        "plt.plot(epochs, acc_values, 'bo', label='Training acc')\n",
        "plt.plot(epochs, val_acc_values, 'b', label='Validation acc')\n",
        "plt.title('Training and validation accuracy')\n",
        "plt.xlabel('Epochs')\n",
        "plt.ylabel('Loss')\n",
        "plt.legend()\n",
        "plt.show()"
      ],
      "execution_count": null,
      "outputs": [
        {
          "output_type": "display_data",
          "data": {
            "image/png": "[encoded data removed]",
            "text/plain": [
              "<Figure size 432x288 with 1 Axes>"
            ]
          },
          "metadata": {
            "tags": [],
            "needs_background": "light"
          }
        },
        {
          "output_type": "display_data",
          "data": {
            "image/png": "[encoded data removed]",
            "text/plain": [
              "<Figure size 432x288 with 1 Axes>"
            ]
          },
          "metadata": {
            "tags": [],
            "needs_background": "light"
          }
        }
      ]
    },
    {
      "cell_type": "markdown",
      "metadata": {
        "id": "WXTc8HEgVQn9",
        "colab_type": "text"
      },
      "source": [
        "## Results"
      ]
    },
    {
      "cell_type": "code",
      "metadata": {
        "id": "YdbPsI4N0hcI",
        "colab_type": "code",
        "colab": {}
      },
      "source": [
        "algs = [\"Linear Regression\", \"Ridge Regression\", \"Gradient Boosting Regressor\", \"Neural Network\"]\n",
        "\n",
        "for i, s in enumerate(scores):\n",
        "  print(\"Algorithm:\", algs[i])\n",
        "  print(\"Mean Squared Error: \"  , s[2])\n",
        "  print(\"Individual MSE scores: \") \n",
        "  print(s[3])\n",
        "  print(\"Mean Average Error: \" , s[0])\n",
        "  print(\"Individual MAE scores: \") \n",
        "  print(s[1])\n",
        "  print(\"\\n\\n\")"
      ],
      "execution_count": null,
      "outputs": []
    }
  ]
}